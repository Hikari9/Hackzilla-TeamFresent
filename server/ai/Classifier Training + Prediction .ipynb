{
 "cells": [
  {
   "cell_type": "code",
   "execution_count": 1,
   "metadata": {
    "collapsed": true
   },
   "outputs": [],
   "source": [
    "import cv2, cv2.face\n",
    "import os, os.path\n",
    "import numpy as np"
   ]
  },
  {
   "cell_type": "code",
   "execution_count": 2,
   "metadata": {
    "collapsed": false
   },
   "outputs": [],
   "source": [
    "import train"
   ]
  },
  {
   "cell_type": "code",
   "execution_count": 3,
   "metadata": {
    "collapsed": false
   },
   "outputs": [
    {
     "name": "stdout",
     "output_type": "stream",
     "text": [
      "Accuracy: 100.00000%\n",
      "Collected 75 images [10 labels]\n",
      "Saved classifier /home/rico/Git/Fresent/server/ai/classifiers/Charles_Taylor.xml\n",
      "Saved classifier /home/rico/Git/Fresent/server/ai/classifiers/Hosni_Mubarak.xml\n",
      "Saved classifier /home/rico/Git/Fresent/server/ai/classifiers/Jeong_Se-hyun.xml\n",
      "Saved classifier /home/rico/Git/Fresent/server/ai/classifiers/Jesse_Jackson.xml\n",
      "Saved classifier /home/rico/Git/Fresent/server/ai/classifiers/George_Clooney.xml\n",
      "Saved classifier /home/rico/Git/Fresent/server/ai/classifiers/Hugh_Grant.xml\n",
      "Saved classifier /home/rico/Git/Fresent/server/ai/classifiers/Colin_Farrell.xml\n",
      "Saved classifier /home/rico/Git/Fresent/server/ai/classifiers/Fernando_Gonzalez.xml\n",
      "Saved classifier /home/rico/Git/Fresent/server/ai/classifiers/Aaron_Peirsol.xml\n",
      "Saved classifier /home/rico/Git/Fresent/server/ai/classifiers/Heizo_Takenaka.xml\n"
     ]
    }
   ],
   "source": [
    "train.generate_classifiers('data/sample_training', 'classifiers', 'data/')"
   ]
  },
  {
   "cell_type": "code",
   "execution_count": 7,
   "metadata": {
    "collapsed": false
   },
   "outputs": [
    {
     "name": "stdout",
     "output_type": "stream",
     "text": [
      "Help on package train:\n",
      "\n",
      "NAME\n",
      "    train\n",
      "\n",
      "PACKAGE CONTENTS\n",
      "    train\n",
      "\n",
      "FILE\n",
      "    (built-in)\n",
      "\n",
      "\n"
     ]
    }
   ],
   "source": []
  },
  {
   "cell_type": "code",
   "execution_count": null,
   "metadata": {
    "collapsed": true
   },
   "outputs": [],
   "source": []
  }
 ],
 "metadata": {
  "kernelspec": {
   "display_name": "Tensorflow",
   "language": "python",
   "name": "tensorflow"
  },
  "language_info": {
   "codemirror_mode": {
    "name": "ipython",
    "version": 3
   },
   "file_extension": ".py",
   "mimetype": "text/x-python",
   "name": "python",
   "nbconvert_exporter": "python",
   "pygments_lexer": "ipython3",
   "version": "3.5.2"
  }
 },
 "nbformat": 4,
 "nbformat_minor": 2
}
