{
 "cells": [
  {
   "cell_type": "code",
   "execution_count": 1,
   "metadata": {
    "collapsed": true
   },
   "outputs": [],
   "source": [
    "import cv2, cv2.face\n",
    "import os, os.path\n",
    "import numpy as np"
   ]
  },
  {
   "cell_type": "code",
   "execution_count": 2,
   "metadata": {
    "collapsed": false
   },
   "outputs": [],
   "source": [
    "import train"
   ]
  },
  {
   "cell_type": "code",
   "execution_count": 3,
   "metadata": {
    "collapsed": false,
    "scrolled": true
   },
   "outputs": [
    {
     "name": "stdout",
     "output_type": "stream",
     "text": [
      "Accuracy: 94.66667%\n",
      "Collected 71 images [10 labels]\n",
      "Saved classifier /home/rico/Git/Fresent/server/ai/classifiers/Aaron_Peirsol.xml\n",
      "Saved classifier /home/rico/Git/Fresent/server/ai/classifiers/Hosni_Mubarak.xml\n",
      "Saved classifier /home/rico/Git/Fresent/server/ai/classifiers/Jeong_Se-hyun.xml\n",
      "Saved classifier /home/rico/Git/Fresent/server/ai/classifiers/Jesse_Jackson.xml\n",
      "Saved classifier /home/rico/Git/Fresent/server/ai/classifiers/Heizo_Takenaka.xml\n",
      "Saved classifier /home/rico/Git/Fresent/server/ai/classifiers/George_Clooney.xml\n",
      "Saved classifier /home/rico/Git/Fresent/server/ai/classifiers/Colin_Farrell.xml\n",
      "Saved classifier /home/rico/Git/Fresent/server/ai/classifiers/Charles_Taylor.xml\n",
      "Saved classifier /home/rico/Git/Fresent/server/ai/classifiers/Hugh_Grant.xml\n",
      "Saved classifier /home/rico/Git/Fresent/server/ai/classifiers/Fernando_Gonzalez.xml\n"
     ]
    }
   ],
   "source": [
    "train.generate_classifiers('data/sample_training', 'classifiers', 'data/')"
   ]
  },
  {
   "cell_type": "code",
   "execution_count": 4,
   "metadata": {
    "collapsed": false
   },
   "outputs": [
    {
     "name": "stdout",
     "output_type": "stream",
     "text": [
      "(2, 79.90383264533297)\n",
      "(2, 80.23907353439448)\n"
     ]
    }
   ],
   "source": [
    "# Test matching with some test data\n",
    "\n",
    "import predict, util\n",
    "\n",
    "aaron = util.load_grayscale_image('data/sample_testing/Aaron_Peirsol/Aaron_Peirsol_0004.png')\n",
    "not_aaron = util.load_grayscale_image('data/sample_testing/Charles_Taylor/Charles_Taylor_0009.png')\n",
    "\n",
    "import cv2\n",
    "cv2.imshow('Hello', aaron)\n",
    "\n",
    "print(predict.match_classifier('classifiers/Aaron_Peirsol.xml', aaron))\n",
    "print(predict.match_classifier('classifiers/Aaron_Peirsol.xml', not_aaron))"
   ]
  },
  {
   "cell_type": "code",
   "execution_count": null,
   "metadata": {
    "collapsed": true
   },
   "outputs": [],
   "source": []
  }
 ],
 "metadata": {
  "kernelspec": {
   "display_name": "Tensorflow",
   "language": "python",
   "name": "tensorflow"
  },
  "language_info": {
   "codemirror_mode": {
    "name": "ipython",
    "version": 3
   },
   "file_extension": ".py",
   "mimetype": "text/x-python",
   "name": "python",
   "nbconvert_exporter": "python",
   "pygments_lexer": "ipython3",
   "version": "3.5.2"
  }
 },
 "nbformat": 4,
 "nbformat_minor": 2
}
