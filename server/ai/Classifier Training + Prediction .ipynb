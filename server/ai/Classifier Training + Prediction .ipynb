{
 "cells": [
  {
   "cell_type": "code",
   "execution_count": 1,
   "metadata": {
    "collapsed": true
   },
   "outputs": [],
   "source": [
    "import cv2, cv2.face\n",
    "import os, os.path\n",
    "import numpy as np"
   ]
  },
  {
   "cell_type": "code",
   "execution_count": 2,
   "metadata": {
    "collapsed": false
   },
   "outputs": [],
   "source": [
    "import train"
   ]
  },
  {
   "cell_type": "code",
   "execution_count": 3,
   "metadata": {
    "collapsed": false,
    "scrolled": true
   },
   "outputs": [
    {
     "name": "stdout",
     "output_type": "stream",
     "text": [
      "Accuracy: 100.00000%\n",
      "Collected 75 images [10 labels]\n",
      "Saved classifier /home/rico/Git/Fresent/server/ai/classifiers/Charles_Taylor.xml\n",
      "Saved classifier /home/rico/Git/Fresent/server/ai/classifiers/Jesse_Jackson.xml\n",
      "Saved classifier /home/rico/Git/Fresent/server/ai/classifiers/Hosni_Mubarak.xml\n",
      "Saved classifier /home/rico/Git/Fresent/server/ai/classifiers/George_Clooney.xml\n",
      "Saved classifier /home/rico/Git/Fresent/server/ai/classifiers/Hugh_Grant.xml\n",
      "Saved classifier /home/rico/Git/Fresent/server/ai/classifiers/Jeong_Se-hyun.xml\n",
      "Saved classifier /home/rico/Git/Fresent/server/ai/classifiers/Heizo_Takenaka.xml\n",
      "Saved classifier /home/rico/Git/Fresent/server/ai/classifiers/Aaron_Peirsol.xml\n",
      "Saved classifier /home/rico/Git/Fresent/server/ai/classifiers/Fernando_Gonzalez.xml\n",
      "Saved classifier /home/rico/Git/Fresent/server/ai/classifiers/Colin_Farrell.xml\n"
     ]
    }
   ],
   "source": [
    "train.generate_classifiers('data/sample_training', 'classifiers', None)"
   ]
  },
  {
   "cell_type": "code",
   "execution_count": 4,
   "metadata": {
    "collapsed": false
   },
   "outputs": [
    {
     "name": "stdout",
     "output_type": "stream",
     "text": [
      "(True, 70.33203017168863)\n",
      "(False, 64.02631180994958)\n"
     ]
    }
   ],
   "source": [
    "# Test matching with some test data\n",
    "\n",
    "import predict, util\n",
    "\n",
    "hosni = util.load_grayscale_image('data/sample_testing/Hosni_Mubarak/Hosni_Mubarak_0009.png')\n",
    "aaron = util.load_grayscale_image('data/sample_testing/Aaron_Peirsol/Aaron_Peirsol_0004.png')\n",
    "\n",
    "import cv2\n",
    "cv2.imshow('Hello', aaron)\n",
    "\n",
    "print(predict.match_classifier('classifiers/Hosni_Mubarak.xml', hosni))\n",
    "print(predict.match_classifier('classifiers/Hosni_Mubarak.xml', aaron))"
   ]
  },
  {
   "cell_type": "code",
   "execution_count": 7,
   "metadata": {
    "collapsed": false
   },
   "outputs": [
    {
     "name": "stdout",
     "output_type": "stream",
     "text": [
      "Accuracy: 100.00000%\n",
      "Expected=True (True, 70.33203017168863)\n",
      "Expected=True (False, 66.9695790300998)\n",
      "Expected=True (False, 64.02631180994958)\n",
      "Expected=True (True, 62.252336352937334)\n",
      "Expected=True (False, 55.98307131663556)\n",
      "Expected=True (True, 58.443145513715066)\n",
      "Expected=True (True, 58.194282662587064)\n",
      "Expected=True (False, 61.83141922223049)\n",
      "Expected=True (True, 60.659852760896726)\n",
      "Expected=True (True, 69.14819846258747)\n"
     ]
    }
   ],
   "source": [
    "# test all labels\n",
    "import util\n",
    "images, labels = util.get_images_and_labels('data/sample_testing')\n",
    "\n",
    "correct = 0\n",
    "total = 0\n",
    "\n",
    "for image, label in zip(images, labels):\n",
    "    \n",
    "    is_match, conf = predict.match_classifier('classifiers/' + label + '.xml', image)\n",
    "    print('Match:', is_match, conf)\n",
    "    \n",
    "    if is_match:\n",
    "        correct += 1\n",
    "    total += 1\n",
    "\n",
    "print('Accuracy: %.5f' % (100 * correct / max(1, total)))\n",
    "    "
   ]
  },
  {
   "cell_type": "code",
   "execution_count": null,
   "metadata": {
    "collapsed": true
   },
   "outputs": [],
   "source": []
  }
 ],
 "metadata": {
  "kernelspec": {
   "display_name": "Tensorflow",
   "language": "python",
   "name": "tensorflow"
  },
  "language_info": {
   "codemirror_mode": {
    "name": "ipython",
    "version": 3
   },
   "file_extension": ".py",
   "mimetype": "text/x-python",
   "name": "python",
   "nbconvert_exporter": "python",
   "pygments_lexer": "ipython3",
   "version": "3.5.2"
  }
 },
 "nbformat": 4,
 "nbformat_minor": 2
}
