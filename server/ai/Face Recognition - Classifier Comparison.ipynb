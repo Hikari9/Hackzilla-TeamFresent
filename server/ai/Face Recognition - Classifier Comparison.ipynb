{
 "cells": [
  {
   "cell_type": "markdown",
   "metadata": {},
   "source": [
    "# Face Recognition - Generate Eigenface Classifiers\n",
    "\n",
    "This notebook tests face detection and recognition from sample images"
   ]
  },
  {
   "cell_type": "code",
   "execution_count": 1,
   "metadata": {
    "collapsed": true
   },
   "outputs": [],
   "source": [
    "import cv2, cv2.face\n",
    "import os, os.path\n",
    "import numpy as np\n",
    "from PIL import Image"
   ]
  },
  {
   "cell_type": "code",
   "execution_count": 2,
   "metadata": {
    "collapsed": true
   },
   "outputs": [],
   "source": [
    "# constants\n",
    "CASCADE_PATH = './data/'\n",
    "CASCADE_NAME = 'haarcascade_frontalface_default.xml'\n",
    "SAMPLE_TRAINING = './data/sample_training/'\n",
    "SAMPLE_TESTING = './data/sample_testing/'"
   ]
  },
  {
   "cell_type": "code",
   "execution_count": 3,
   "metadata": {
    "collapsed": true
   },
   "outputs": [],
   "source": [
    "#vSAMPLE_TRAINING = '/home/rico/datasets/lfw/raw/'"
   ]
  },
  {
   "cell_type": "code",
   "execution_count": 4,
   "metadata": {
    "collapsed": false
   },
   "outputs": [],
   "source": [
    "# Viola-Jones classifier for Haar feature extraction\n",
    "cascader_file = os.path.join(CASCADE_PATH, CASCADE_NAME)\n",
    "cascader = cv2.CascadeClassifier(cascader_file)\n",
    "assert(not cascader.empty())\n",
    "\n",
    "cascader_kwargs = { # setup detection args here\n",
    "    'scaleFactor': 1.1,\n",
    "    'minNeighbors': 2,\n",
    "    'flags': 2\n",
    "}"
   ]
  },
  {
   "cell_type": "code",
   "execution_count": 37,
   "metadata": {
    "collapsed": true
   },
   "outputs": [],
   "source": [
    "# function that gets images with respective labels from a given folder\n",
    "def get_images_and_labels(folder,\n",
    "                          detect_faces=False,\n",
    "                          median_blur=3,\n",
    "                          equalize_hist=True,\n",
    "                          debug=False,\n",
    "                          debug_faces=True,\n",
    "                          debug_accuracy=False):\n",
    "    \n",
    "    labels = []\n",
    "    images = []\n",
    "    added = 0\n",
    "    expected = 0\n",
    "    \n",
    "    for label in os.listdir(folder):\n",
    "        \n",
    "        if debug: print(label)\n",
    "        path = os.path.join(folder, label)\n",
    "        \n",
    "        if os.path.isdir(path):\n",
    "            \n",
    "            for filename in os.listdir(path):\n",
    "                \n",
    "                ok = 0\n",
    "                expected += 1\n",
    "\n",
    "                try:\n",
    "                    \n",
    "                    image_path = os.path.join(path, filename)\n",
    "                    \n",
    "                    #image_pil = Image.open(image_path).convert('L')\n",
    "                    #image = np.array(image_pil, 'uint8')\n",
    "                    #cv2.equalizeHist(image, image)\n",
    "                    \n",
    "                    # get grayscale image\n",
    "                    \n",
    "                    raw_image = cv2.imread(image_path)\n",
    "                    gray_image = cv2.cvtColor(raw_image, cv2.COLOR_BGR2GRAY)\n",
    "                    image = gray_image\n",
    "                    if equalize_hist:\n",
    "                        image = cv2.equalizeHist(gray_image)\n",
    "                    if median_blur:\n",
    "                        image = cv2.medianBlur(image, median_blur)\n",
    "                    \n",
    "                    if detect_faces:\n",
    "                        # get the face using Viola-Jones detector\n",
    "                        faces = cascader.detectMultiScale(image, **cascader_kwargs)\n",
    "                        for (x, y, w, h) in faces:\n",
    "                            images.append(image[y:y+h, x:x+w])\n",
    "                            labels.append(label)\n",
    "                            if debug_faces:\n",
    "                                cv2.imshow('Adding faces to training set...', image[y:y+h, x:x+w])\n",
    "                                cv2.waitKey(50)\n",
    "                        ok += len(faces)\n",
    "                        if len(faces) > 0:\n",
    "                            added += 1\n",
    "                    else:\n",
    "                        images.append(image)\n",
    "                        labels.append(label)\n",
    "                        ok = 1\n",
    "                        added += 1\n",
    "\n",
    "                except Exception as e:\n",
    "                    print(e)\n",
    "                    pass\n",
    "                \n",
    "                if debug: print('\\t' + filename + (' [%d face]' % ok))\n",
    "        \n",
    "        if debug: print('[Added %d images]' % added)\n",
    "    \n",
    "    if debug_faces:\n",
    "        cv2.destroyAllWindows()\n",
    "    \n",
    "    if debug_accuracy:\n",
    "        print('Accuracy: %.5f%%' % (100 * added / max(1, expected)))\n",
    "    \n",
    "    return images, labels\n",
    "    "
   ]
  },
  {
   "cell_type": "code",
   "execution_count": 38,
   "metadata": {
    "collapsed": false
   },
   "outputs": [
    {
     "name": "stdout",
     "output_type": "stream",
     "text": [
      "Accuracy: 100.00000%\n",
      "Collected 75 images\n",
      "\n",
      "CPU times: user 132 ms, sys: 0 ns, total: 132 ms\n",
      "Wall time: 132 ms\n"
     ]
    }
   ],
   "source": [
    "%%time\n",
    "# try getting labels from sample images folder\n",
    "print('Collected %d images\\n' % len(training_set[0]))"
   ]
  },
  {
   "cell_type": "code",
   "execution_count": 51,
   "metadata": {
    "collapsed": false
   },
   "outputs": [
    {
     "name": "stdout",
     "output_type": "stream",
     "text": [
      "Accuracy: 100.00000%\n"
     ]
    }
   ],
   "source": [
    "# setup label dictionary and testing set\n",
    "testing_set = get_images_and_labels(SAMPLE_TESTING, detect_faces=False, debug=False, debug_faces=True, debug_accuracy=True)\n",
    "label_dict = {i: label for i, label in enumerate(training_set[1])}"
   ]
  },
  {
   "cell_type": "code",
   "execution_count": 40,
   "metadata": {
    "collapsed": true
   },
   "outputs": [],
   "source": [
    "def perform_training(recognizer, **kwargs):\n",
    "    training_set = get_images_and_labels(SAMPLE_TRAINING,\n",
    "                                         detect_faces=True,\n",
    "                                         debug=False,\n",
    "                                         debug_faces=False,\n",
    "                                         debug_accuracy=True)\n",
    "    images, labels = training_set\n",
    "    recognizer.train(images, np.array(range(len(images))))\n",
    "    print('Trained %d images\\n' % len(images))"
   ]
  },
  {
   "cell_type": "code",
   "execution_count": 41,
   "metadata": {
    "collapsed": true
   },
   "outputs": [],
   "source": [
    "def perform_testing(recognizer):\n",
    "    %%time\n",
    "    # Perform testing\n",
    "\n",
    "    images, labels = testing_set\n",
    "    zipped = zip(images, labels)\n",
    "    print('Performing %d tests\\n' % len(images))\n",
    "\n",
    "    correct = 0\n",
    "    total = 0\n",
    "\n",
    "    for image, expected_label in zipped:\n",
    "        label, confidence = recognizer.predict(image)\n",
    "        if label in label_dict:\n",
    "            actual_label = label_dict[label]\n",
    "            if actual_label == expected_label:\n",
    "                correct += 1\n",
    "                print('%s is correctly recognized with confidence %.10f' % (actual_label, confidence))\n",
    "            else:\n",
    "                print('%s incorrect (recognized as %s with confidence %.10f)' % (actual_label, expected_label, confidence))\n",
    "        else:\n",
    "            print('No face found for %s' % label)\n",
    "        total += 1\n",
    "\n",
    "    print()\n",
    "    print('Accuracy: %.2f%%' % (100 * (correct / max(1, total))))\n",
    "    print('Correct:  %d' % correct)\n",
    "    print('Wrong:    %d' % (total - correct))"
   ]
  },
  {
   "cell_type": "markdown",
   "metadata": {},
   "source": [
    "# 1. EigenFaces"
   ]
  },
  {
   "cell_type": "code",
   "execution_count": 42,
   "metadata": {
    "collapsed": true
   },
   "outputs": [],
   "source": [
    "# face recognizer\n",
    "recognizer = cv2.face.createEigenFaceRecognizer()"
   ]
  },
  {
   "cell_type": "code",
   "execution_count": 43,
   "metadata": {
    "collapsed": false,
    "scrolled": true
   },
   "outputs": [
    {
     "name": "stdout",
     "output_type": "stream",
     "text": [
      "Trained 75 images\n",
      "\n",
      "CPU times: user 456 ms, sys: 4 ms, total: 460 ms\n",
      "Wall time: 460 ms\n"
     ]
    }
   ],
   "source": [
    "%%time\n",
    "# Perform the training\n",
    "perform_training(recognizer)"
   ]
  },
  {
   "cell_type": "code",
   "execution_count": 44,
   "metadata": {
    "collapsed": false
   },
   "outputs": [
    {
     "name": "stdout",
     "output_type": "stream",
     "text": [
      "CPU times: user 0 ns, sys: 0 ns, total: 0 ns\n",
      "Wall time: 6.91 µs\n",
      "Performing 10 tests\n",
      "\n",
      "Fernando_Gonzalez incorrect (recognized as Hosni_Mubarak with confidence 10687.3564137359)\n",
      "Fernando_Gonzalez incorrect (recognized as Jeong_Se-hyun with confidence 11347.2819667894)\n",
      "Jeong_Se-hyun incorrect (recognized as Aaron_Peirsol with confidence 9994.4947287886)\n",
      "Heizo_Takenaka is correctly recognized with confidence 9199.6439138914\n",
      "Colin_Farrell incorrect (recognized as Jesse_Jackson with confidence 11422.3797453893)\n",
      "George_Clooney incorrect (recognized as Hugh_Grant with confidence 9472.7206803063)\n",
      "Fernando_Gonzalez is correctly recognized with confidence 8045.6673116274\n",
      "George_Clooney is correctly recognized with confidence 8544.8542757203\n",
      "George_Clooney incorrect (recognized as Colin_Farrell with confidence 9793.1912058050)\n",
      "George_Clooney incorrect (recognized as Charles_Taylor with confidence 10596.8797114477)\n",
      "\n",
      "Accuracy: 30.00%\n",
      "Correct:  3\n",
      "Wrong:    7\n"
     ]
    }
   ],
   "source": [
    "perform_testing(recognizer)"
   ]
  },
  {
   "cell_type": "markdown",
   "metadata": {},
   "source": [
    "# 2. FisherFaces"
   ]
  },
  {
   "cell_type": "code",
   "execution_count": 45,
   "metadata": {
    "collapsed": true
   },
   "outputs": [],
   "source": [
    "# face recognizer\n",
    "recognizer = cv2.face.createFisherFaceRecognizer()"
   ]
  },
  {
   "cell_type": "code",
   "execution_count": 46,
   "metadata": {
    "collapsed": false
   },
   "outputs": [
    {
     "name": "stdout",
     "output_type": "stream",
     "text": [
      "Trained 75 images\n",
      "\n",
      "CPU times: user 656 ms, sys: 8 ms, total: 664 ms\n",
      "Wall time: 666 ms\n"
     ]
    }
   ],
   "source": [
    "%%time\n",
    "perform_training(recognizer)"
   ]
  },
  {
   "cell_type": "code",
   "execution_count": 47,
   "metadata": {
    "collapsed": false
   },
   "outputs": [
    {
     "name": "stdout",
     "output_type": "stream",
     "text": [
      "CPU times: user 0 ns, sys: 0 ns, total: 0 ns\n",
      "Wall time: 3.81 µs\n",
      "Performing 10 tests\n",
      "\n",
      "Fernando_Gonzalez incorrect (recognized as Hosni_Mubarak with confidence 10687.1966842647)\n",
      "Fernando_Gonzalez incorrect (recognized as Jeong_Se-hyun with confidence 11346.3021815501)\n",
      "Jeong_Se-hyun incorrect (recognized as Aaron_Peirsol with confidence 9979.5216437280)\n",
      "Heizo_Takenaka is correctly recognized with confidence 9198.4237293494\n",
      "Colin_Farrell incorrect (recognized as Jesse_Jackson with confidence 11404.3648418238)\n",
      "George_Clooney incorrect (recognized as Hugh_Grant with confidence 9457.8092446267)\n",
      "Fernando_Gonzalez is correctly recognized with confidence 8018.3304695702\n",
      "George_Clooney is correctly recognized with confidence 8515.4131307016\n",
      "George_Clooney incorrect (recognized as Colin_Farrell with confidence 9785.5626252579)\n",
      "George_Clooney incorrect (recognized as Charles_Taylor with confidence 10549.5508920013)\n",
      "\n",
      "Accuracy: 30.00%\n",
      "Correct:  3\n",
      "Wrong:    7\n",
      "CPU times: user 44 ms, sys: 0 ns, total: 44 ms\n",
      "Wall time: 41.7 ms\n"
     ]
    }
   ],
   "source": [
    "%%time\n",
    "perform_testing(recognizer)"
   ]
  },
  {
   "cell_type": "markdown",
   "metadata": {},
   "source": [
    "# 2. Local Binary Patterns"
   ]
  },
  {
   "cell_type": "code",
   "execution_count": 48,
   "metadata": {
    "collapsed": true
   },
   "outputs": [],
   "source": [
    "# face recognizer\n",
    "recognizer = cv2.face.createLBPHFaceRecognizer()"
   ]
  },
  {
   "cell_type": "code",
   "execution_count": 49,
   "metadata": {
    "collapsed": false
   },
   "outputs": [
    {
     "name": "stdout",
     "output_type": "stream",
     "text": [
      "Trained 75 images\n",
      "\n",
      "CPU times: user 176 ms, sys: 0 ns, total: 176 ms\n",
      "Wall time: 175 ms\n"
     ]
    }
   ],
   "source": [
    "%%time\n",
    "perform_training(recognizer)"
   ]
  },
  {
   "cell_type": "code",
   "execution_count": 50,
   "metadata": {
    "collapsed": false
   },
   "outputs": [
    {
     "name": "stdout",
     "output_type": "stream",
     "text": [
      "CPU times: user 0 ns, sys: 0 ns, total: 0 ns\n",
      "Wall time: 17.6 µs\n",
      "Performing 10 tests\n",
      "\n",
      "Hosni_Mubarak is correctly recognized with confidence 70.6332804869\n",
      "Jesse_Jackson incorrect (recognized as Jeong_Se-hyun with confidence 67.7481908087)\n",
      "Colin_Farrell incorrect (recognized as Aaron_Peirsol with confidence 65.0345385776)\n",
      "Heizo_Takenaka is correctly recognized with confidence 62.5162239504\n",
      "Hugh_Grant incorrect (recognized as Jesse_Jackson with confidence 56.2324576027)\n",
      "Hugh_Grant is correctly recognized with confidence 58.2146113385\n",
      "Fernando_Gonzalez is correctly recognized with confidence 57.5177252210\n",
      "Jeong_Se-hyun incorrect (recognized as George_Clooney with confidence 60.7873265369)\n",
      "Colin_Farrell is correctly recognized with confidence 61.3683821506\n",
      "Charles_Taylor is correctly recognized with confidence 67.7961789087\n",
      "\n",
      "Accuracy: 60.00%\n",
      "Correct:  6\n",
      "Wrong:    4\n",
      "CPU times: user 88 ms, sys: 0 ns, total: 88 ms\n",
      "Wall time: 87.2 ms\n"
     ]
    }
   ],
   "source": [
    "%%time\n",
    "perform_testing(recognizer)"
   ]
  },
  {
   "cell_type": "code",
   "execution_count": null,
   "metadata": {
    "collapsed": true
   },
   "outputs": [],
   "source": []
  }
 ],
 "metadata": {
  "kernelspec": {
   "display_name": "Tensorflow",
   "language": "python",
   "name": "tensorflow"
  },
  "language_info": {
   "codemirror_mode": {
    "name": "ipython",
    "version": 3
   },
   "file_extension": ".py",
   "mimetype": "text/x-python",
   "name": "python",
   "nbconvert_exporter": "python",
   "pygments_lexer": "ipython3",
   "version": "3.5.2"
  }
 },
 "nbformat": 4,
 "nbformat_minor": 2
}
