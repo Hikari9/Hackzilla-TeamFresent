{
 "cells": [
  {
   "cell_type": "markdown",
   "metadata": {},
   "source": [
    "# Face Recognition - Generate Eigenface Classifiers\n",
    "\n",
    "This notebook tests face detection and recognition from sample images"
   ]
  },
  {
   "cell_type": "code",
   "execution_count": 22,
   "metadata": {
    "collapsed": true
   },
   "outputs": [],
   "source": [
    "import cv2, cv2.face\n",
    "import os, os.path\n",
    "import numpy as np\n",
    "from PIL import Image"
   ]
  },
  {
   "cell_type": "code",
   "execution_count": 23,
   "metadata": {
    "collapsed": true
   },
   "outputs": [],
   "source": [
    "# constants\n",
    "CASCADE_PATH = './data/'\n",
    "CASCADE_NAME = 'haarcascade_frontalface_default.xml'\n",
    "SAMPLE_TRAINING = './data/sample_training/'\n",
    "SAMPLE_TESTING = './data/sample_testing/'"
   ]
  },
  {
   "cell_type": "code",
   "execution_count": 24,
   "metadata": {
    "collapsed": true
   },
   "outputs": [],
   "source": [
    "#vSAMPLE_TRAINING = '/home/rico/datasets/lfw/raw/'"
   ]
  },
  {
   "cell_type": "code",
   "execution_count": 25,
   "metadata": {
    "collapsed": false
   },
   "outputs": [],
   "source": [
    "# Viola-Jones classifier for Haar feature extraction\n",
    "cascader_file = os.path.join(CASCADE_PATH, CASCADE_NAME)\n",
    "cascader = cv2.CascadeClassifier(cascader_file)\n",
    "assert(not cascader.empty())\n",
    "\n",
    "cascader_kwargs = { # setup detection args here\n",
    "    'scaleFactor': 1.1,\n",
    "    'minNeighbors': 2,\n",
    "    'flags': 2\n",
    "}"
   ]
  },
  {
   "cell_type": "code",
   "execution_count": 26,
   "metadata": {
    "collapsed": true
   },
   "outputs": [],
   "source": [
    "from util import get_images_and_labels"
   ]
  },
  {
   "cell_type": "code",
   "execution_count": 27,
   "metadata": {
    "collapsed": false
   },
   "outputs": [
    {
     "name": "stdout",
     "output_type": "stream",
     "text": [
      "Hosni_Mubarak\n",
      "\tHosni_Mubarak_0007.png [1 face]\n",
      "\tHosni_Mubarak_0003.png [1 face]\n",
      "\tHosni_Mubarak_0004.png [1 face]\n",
      "\tHosni_Mubarak_0008.png [1 face]\n",
      "\tHosni_Mubarak_0005.png [1 face]\n",
      "\tHosni_Mubarak_0001.png [1 face]\n",
      "\tHosni_Mubarak_0006.png [1 face]\n",
      "\tHosni_Mubarak_0002.png [1 face]\n",
      "[Added 8 images]\n",
      "Jeong_Se-hyun\n",
      "\tJeong_Se-hyun_0007.png [1 face]\n",
      "\tJeong_Se-hyun_0001.png [1 face]\n",
      "\tJeong_Se-hyun_0008.png [1 face]\n",
      "\tJeong_Se-hyun_0003.png [1 face]\n",
      "\tJeong_Se-hyun_0004.png [1 face]\n",
      "\tJeong_Se-hyun_0002.png [1 face]\n",
      "\tJeong_Se-hyun_0005.png [1 face]\n",
      "\tJeong_Se-hyun_0006.png [1 face]\n",
      "[Added 16 images]\n",
      "Aaron_Peirsol\n",
      "\tAaron_Peirsol_0003.png [1 face]\n",
      "\tAaron_Peirsol_0001.png [1 face]\n",
      "\tAaron_Peirsol_0002.png [1 face]\n",
      "[Added 19 images]\n",
      "Heizo_Takenaka\n",
      "\tHeizo_Takenaka_0002.png [1 face]\n",
      "\tHeizo_Takenaka_0007.png [1 face]\n",
      "\tHeizo_Takenaka_0001.png [1 face]\n",
      "\tHeizo_Takenaka_0006.png [1 face]\n",
      "\tHeizo_Takenaka_0004.png [1 face]\n",
      "\tHeizo_Takenaka_0008.png [1 face]\n",
      "\tHeizo_Takenaka_0003.png [1 face]\n",
      "\tHeizo_Takenaka_0005.png [1 face]\n",
      "[Added 27 images]\n",
      "Jesse_Jackson\n",
      "\tJesse_Jackson_0001.png [1 face]\n",
      "\tJesse_Jackson_0007.png [1 face]\n",
      "\tJesse_Jackson_0004.png [1 face]\n",
      "\tJesse_Jackson_0002.png [1 face]\n",
      "\tJesse_Jackson_0003.png [1 face]\n",
      "\tJesse_Jackson_0008.png [1 face]\n",
      "\tJesse_Jackson_0006.png [1 face]\n",
      "\tJesse_Jackson_0005.png [1 face]\n",
      "[Added 35 images]\n",
      "Hugh_Grant\n",
      "\tHugh_Grant_0002.png [1 face]\n",
      "\tHugh_Grant_0006.png [1 face]\n",
      "\tHugh_Grant_0004.png [1 face]\n",
      "\tHugh_Grant_0008.png [1 face]\n",
      "\tHugh_Grant_0001.png [1 face]\n",
      "\tHugh_Grant_0007.png [1 face]\n",
      "\tHugh_Grant_0003.png [1 face]\n",
      "\tHugh_Grant_0005.png [1 face]\n",
      "[Added 43 images]\n",
      "Fernando_Gonzalez\n",
      "\tFernando_Gonzalez_0006.png [1 face]\n",
      "\tFernando_Gonzalez_0007.png [1 face]\n",
      "\tFernando_Gonzalez_0004.png [1 face]\n",
      "\tFernando_Gonzalez_0002.png [1 face]\n",
      "\tFernando_Gonzalez_0003.png [1 face]\n",
      "\tFernando_Gonzalez_0001.png [1 face]\n",
      "\tFernando_Gonzalez_0005.png [1 face]\n",
      "\tFernando_Gonzalez_0008.png [1 face]\n",
      "[Added 51 images]\n",
      "George_Clooney\n",
      "\tGeorge_Clooney_0007.png [1 face]\n",
      "\tGeorge_Clooney_0001.png [1 face]\n",
      "\tGeorge_Clooney_0003.png [1 face]\n",
      "\tGeorge_Clooney_0006.png [1 face]\n",
      "\tGeorge_Clooney_0005.png [1 face]\n",
      "\tGeorge_Clooney_0008.png [1 face]\n",
      "\tGeorge_Clooney_0004.png [1 face]\n",
      "\tGeorge_Clooney_0002.png [1 face]\n",
      "[Added 59 images]\n",
      "Colin_Farrell\n",
      "\tColin_Farrell_0007.png [1 face]\n",
      "\tColin_Farrell_0002.png [1 face]\n",
      "\tColin_Farrell_0006.png [1 face]\n",
      "\tColin_Farrell_0003.png [1 face]\n",
      "\tColin_Farrell_0004.png [1 face]\n",
      "\tColin_Farrell_0008.png [1 face]\n",
      "\tColin_Farrell_0005.png [1 face]\n",
      "\tColin_Farrell_0001.png [1 face]\n",
      "[Added 67 images]\n",
      "Charles_Taylor\n",
      "\tCharles_Taylor_0002.png [1 face]\n",
      "\tCharles_Taylor_0005.png [1 face]\n",
      "\tCharles_Taylor_0004.png [1 face]\n",
      "\tCharles_Taylor_0001.png [1 face]\n",
      "\tCharles_Taylor_0007.png [1 face]\n",
      "\tCharles_Taylor_0003.png [1 face]\n",
      "\tCharles_Taylor_0006.png [1 face]\n",
      "\tCharles_Taylor_0008.png [1 face]\n",
      "[Added 75 images]\n"
     ]
    }
   ],
   "source": [
    "# setup training set\n",
    "training_set = get_images_and_labels(SAMPLE_TRAINING,\n",
    "                                    cascader=None,\n",
    "                                    debug=True,\n",
    "                                    debug_accuracy=False)"
   ]
  },
  {
   "cell_type": "code",
   "execution_count": 28,
   "metadata": {
    "collapsed": false
   },
   "outputs": [
    {
     "name": "stdout",
     "output_type": "stream",
     "text": [
      "Accuracy: 100.00000%\n",
      "Accuracy: 100.00000%\n"
     ]
    }
   ],
   "source": [
    "# setup testing set\n",
    "testing_set_cascade = get_images_and_labels(SAMPLE_TESTING,\n",
    "                                    cascader=cascader,\n",
    "                                    debug=False,\n",
    "                                    debug_faces=True,\n",
    "                                    debug_accuracy=True)\n",
    "\n",
    "testing_set= get_images_and_labels(SAMPLE_TESTING,\n",
    "                                    cascader=None,\n",
    "                                    debug=False,\n",
    "                                    debug_faces=True,\n",
    "                                    debug_accuracy=True)\n"
   ]
  },
  {
   "cell_type": "code",
   "execution_count": 29,
   "metadata": {
    "collapsed": false
   },
   "outputs": [],
   "source": [
    "# setup labels\n",
    "label_dict = {}\n",
    "label_dict_inv = {}\n",
    "\n",
    "for label in training_set[1]:\n",
    "    if label not in label_dict:\n",
    "        label_dict_inv[len(label_dict)] = label\n",
    "        label_dict[label] = len(label_dict)\n",
    "        "
   ]
  },
  {
   "cell_type": "code",
   "execution_count": 30,
   "metadata": {
    "collapsed": false
   },
   "outputs": [],
   "source": [
    "def perform_training(recognizer):\n",
    "    images, raw_labels = training_set\n",
    "    labels = [label_dict[label] for label in raw_labels]\n",
    "    print(labels)\n",
    "    recognizer.train(images, np.array(labels))\n",
    "    print('Trained %d images\\n' % len(images))"
   ]
  },
  {
   "cell_type": "code",
   "execution_count": 31,
   "metadata": {
    "collapsed": false
   },
   "outputs": [],
   "source": [
    "def perform_testing(recognizer, testing_set=testing_set):\n",
    "    \n",
    "    images, labels = testing_set\n",
    "    \n",
    "    print('Performing %d tests\\n' % len(images))\n",
    "\n",
    "    correct = 0\n",
    "    total = 0\n",
    "\n",
    "    for image, expected in zip(images, labels):\n",
    "        \n",
    "        if expected not in label_dict:\n",
    "            print('No face found for %s' % expected)\n",
    "            \n",
    "        else:\n",
    "            eid = label_dict[expected]\n",
    "            lid, confidence = recognizer.predict(image)\n",
    "            \n",
    "            if lid in label_dict_inv:\n",
    "                \n",
    "                actual = label_dict_inv[lid]\n",
    "                                        \n",
    "                if eid == lid:\n",
    "                    print('%s is correctly recognized with confidence %.10f' % (expected, confidence))\n",
    "                    correct += 1\n",
    "                                        \n",
    "                else:\n",
    "                    print('%s incorrect (recognized as %s with confidence %.10f)' % (expected, actual, confidence))\n",
    "                    \n",
    "            else:\n",
    "                print('No face found for %s' % expected)\n",
    "                \n",
    "        total += 1\n",
    "\n",
    "    print()\n",
    "    print('Accuracy: %.2f%%' % (100 * (correct / max(1, total))))\n",
    "    print('Correct:  %d' % correct)\n",
    "    print('Wrong:    %d' % (total - correct))"
   ]
  },
  {
   "cell_type": "code",
   "execution_count": 32,
   "metadata": {
    "collapsed": false
   },
   "outputs": [
    {
     "name": "stdout",
     "output_type": "stream",
     "text": [
      "[0, 0, 0, 0, 0, 0, 0, 0, 1, 1, 1, 1, 1, 1, 1, 1, 2, 2, 2, 3, 3, 3, 3, 3, 3, 3, 3, 4, 4, 4, 4, 4, 4, 4, 4, 5, 5, 5, 5, 5, 5, 5, 5, 6, 6, 6, 6, 6, 6, 6, 6, 7, 7, 7, 7, 7, 7, 7, 7, 8, 8, 8, 8, 8, 8, 8, 8, 9, 9, 9, 9, 9, 9, 9, 9]\n",
      "Trained 75 images\n",
      "\n",
      "0 0 90.61975813513436\n",
      "1 4 88.20881523395161\n",
      "2 9 86.88206023886762\n",
      "3 3 81.46586689460405\n",
      "4 5 78.1746142245438\n",
      "5 5 74.39190917673132\n",
      "6 6 78.77813443692419\n",
      "7 1 84.35208276927965\n",
      "8 8 80.90414685856982\n",
      "9 8 91.0965599830775\n",
      "50.0 % Accuracy\n"
     ]
    }
   ],
   "source": [
    "reco = cv2.face.createLBPHFaceRecognizer()\n",
    "perform_training(reco)\n",
    "ims, ls = testing_set\n",
    "cor = 0\n",
    "tot = 0\n",
    "for im, l in zip(ims,ls):\n",
    "    label = label_dict[l]\n",
    "    inf, conf = reco.predict(im)\n",
    "    print(label, inf, conf)\n",
    "    if (label == inf):\n",
    "        cor += 1\n",
    "    tot += 1\n",
    "print(100*cor/tot,'% Accuracy')"
   ]
  },
  {
   "cell_type": "markdown",
   "metadata": {},
   "source": [
    "# 1. EigenFaces"
   ]
  },
  {
   "cell_type": "code",
   "execution_count": 33,
   "metadata": {
    "collapsed": false
   },
   "outputs": [],
   "source": [
    "# face recognizer\n",
    "recognizer = cv2.face.createEigenFaceRecognizer()"
   ]
  },
  {
   "cell_type": "code",
   "execution_count": 34,
   "metadata": {
    "collapsed": false,
    "scrolled": true
   },
   "outputs": [
    {
     "name": "stdout",
     "output_type": "stream",
     "text": [
      "[0, 0, 0, 0, 0, 0, 0, 0, 1, 1, 1, 1, 1, 1, 1, 1, 2, 2, 2, 3, 3, 3, 3, 3, 3, 3, 3, 4, 4, 4, 4, 4, 4, 4, 4, 5, 5, 5, 5, 5, 5, 5, 5, 6, 6, 6, 6, 6, 6, 6, 6, 7, 7, 7, 7, 7, 7, 7, 7, 8, 8, 8, 8, 8, 8, 8, 8, 9, 9, 9, 9, 9, 9, 9, 9]\n",
      "Trained 75 images\n",
      "\n",
      "CPU times: user 444 ms, sys: 8 ms, total: 452 ms\n",
      "Wall time: 452 ms\n"
     ]
    }
   ],
   "source": [
    "%%time\n",
    "# Perform the training\n",
    "perform_training(recognizer)"
   ]
  },
  {
   "cell_type": "code",
   "execution_count": 35,
   "metadata": {
    "collapsed": false
   },
   "outputs": [
    {
     "name": "stdout",
     "output_type": "stream",
     "text": [
      "Performing 10 tests\n",
      "\n",
      "Hosni_Mubarak incorrect (recognized as Hugh_Grant with confidence 7459.1875506163)\n",
      "Jeong_Se-hyun incorrect (recognized as Jesse_Jackson with confidence 9030.5332386143)\n",
      "Aaron_Peirsol incorrect (recognized as Jeong_Se-hyun with confidence 7636.2160378138)\n",
      "Heizo_Takenaka is correctly recognized with confidence 7333.0673881077\n",
      "Jesse_Jackson incorrect (recognized as George_Clooney with confidence 7408.4107147477)\n",
      "Hugh_Grant is correctly recognized with confidence 7014.1241709433\n",
      "Fernando_Gonzalez is correctly recognized with confidence 7018.8116203323\n",
      "George_Clooney is correctly recognized with confidence 8133.9758120250\n",
      "Colin_Farrell incorrect (recognized as Hugh_Grant with confidence 7738.7194345377)\n",
      "Charles_Taylor incorrect (recognized as Fernando_Gonzalez with confidence 9505.4375713488)\n",
      "\n",
      "Accuracy: 40.00%\n",
      "Correct:  4\n",
      "Wrong:    6\n"
     ]
    }
   ],
   "source": [
    "perform_testing(recognizer)"
   ]
  },
  {
   "cell_type": "markdown",
   "metadata": {},
   "source": [
    "# 2. FisherFaces"
   ]
  },
  {
   "cell_type": "code",
   "execution_count": 36,
   "metadata": {
    "collapsed": true
   },
   "outputs": [],
   "source": [
    "# face recognizer\n",
    "recognizer = cv2.face.createFisherFaceRecognizer()"
   ]
  },
  {
   "cell_type": "code",
   "execution_count": 37,
   "metadata": {
    "collapsed": false
   },
   "outputs": [
    {
     "name": "stdout",
     "output_type": "stream",
     "text": [
      "[0, 0, 0, 0, 0, 0, 0, 0, 1, 1, 1, 1, 1, 1, 1, 1, 2, 2, 2, 3, 3, 3, 3, 3, 3, 3, 3, 4, 4, 4, 4, 4, 4, 4, 4, 5, 5, 5, 5, 5, 5, 5, 5, 6, 6, 6, 6, 6, 6, 6, 6, 7, 7, 7, 7, 7, 7, 7, 7, 8, 8, 8, 8, 8, 8, 8, 8, 9, 9, 9, 9, 9, 9, 9, 9]\n",
      "Trained 75 images\n",
      "\n",
      "CPU times: user 380 ms, sys: 4 ms, total: 384 ms\n",
      "Wall time: 381 ms\n"
     ]
    }
   ],
   "source": [
    "%%time\n",
    "perform_training(recognizer)"
   ]
  },
  {
   "cell_type": "code",
   "execution_count": 38,
   "metadata": {
    "collapsed": false
   },
   "outputs": [
    {
     "name": "stdout",
     "output_type": "stream",
     "text": [
      "Performing 10 tests\n",
      "\n",
      "Hosni_Mubarak incorrect (recognized as Hugh_Grant with confidence 1412.2747576524)\n",
      "Jeong_Se-hyun is correctly recognized with confidence 1581.9404932156\n",
      "Aaron_Peirsol incorrect (recognized as Hosni_Mubarak with confidence 1262.2812054074)\n",
      "Heizo_Takenaka incorrect (recognized as George_Clooney with confidence 2162.6355459442)\n",
      "Jesse_Jackson is correctly recognized with confidence 1332.2098677064\n",
      "Hugh_Grant incorrect (recognized as George_Clooney with confidence 1577.8436376371)\n",
      "Fernando_Gonzalez is correctly recognized with confidence 1639.7900214552\n",
      "George_Clooney is correctly recognized with confidence 1633.6195051576\n",
      "Colin_Farrell incorrect (recognized as Fernando_Gonzalez with confidence 1407.6192953259)\n",
      "Charles_Taylor incorrect (recognized as Colin_Farrell with confidence 1676.5825641158)\n",
      "\n",
      "Accuracy: 40.00%\n",
      "Correct:  4\n",
      "Wrong:    6\n",
      "CPU times: user 8 ms, sys: 0 ns, total: 8 ms\n",
      "Wall time: 8.61 ms\n"
     ]
    }
   ],
   "source": [
    "%%time\n",
    "perform_testing(recognizer)"
   ]
  },
  {
   "cell_type": "markdown",
   "metadata": {},
   "source": [
    "# 2. Local Binary Patterns"
   ]
  },
  {
   "cell_type": "code",
   "execution_count": 39,
   "metadata": {
    "collapsed": true
   },
   "outputs": [],
   "source": [
    "# face recognizer\n",
    "recognizer = cv2.face.createLBPHFaceRecognizer()"
   ]
  },
  {
   "cell_type": "code",
   "execution_count": 40,
   "metadata": {
    "collapsed": false
   },
   "outputs": [
    {
     "name": "stdout",
     "output_type": "stream",
     "text": [
      "[0, 0, 0, 0, 0, 0, 0, 0, 1, 1, 1, 1, 1, 1, 1, 1, 2, 2, 2, 3, 3, 3, 3, 3, 3, 3, 3, 4, 4, 4, 4, 4, 4, 4, 4, 5, 5, 5, 5, 5, 5, 5, 5, 6, 6, 6, 6, 6, 6, 6, 6, 7, 7, 7, 7, 7, 7, 7, 7, 8, 8, 8, 8, 8, 8, 8, 8, 9, 9, 9, 9, 9, 9, 9, 9]\n",
      "Trained 75 images\n",
      "\n",
      "CPU times: user 196 ms, sys: 0 ns, total: 196 ms\n",
      "Wall time: 192 ms\n"
     ]
    }
   ],
   "source": [
    "%%time\n",
    "perform_training(recognizer)"
   ]
  },
  {
   "cell_type": "code",
   "execution_count": 41,
   "metadata": {
    "collapsed": false
   },
   "outputs": [
    {
     "name": "stdout",
     "output_type": "stream",
     "text": [
      "Performing 10 tests\n",
      "\n",
      "Hosni_Mubarak is correctly recognized with confidence 90.6197581351\n",
      "Jeong_Se-hyun incorrect (recognized as Jesse_Jackson with confidence 88.2088152340)\n",
      "Aaron_Peirsol incorrect (recognized as Charles_Taylor with confidence 86.8820602389)\n",
      "Heizo_Takenaka is correctly recognized with confidence 81.4658668946\n",
      "Jesse_Jackson incorrect (recognized as Hugh_Grant with confidence 78.1746142245)\n",
      "Hugh_Grant is correctly recognized with confidence 74.3919091767\n",
      "Fernando_Gonzalez is correctly recognized with confidence 78.7781344369\n",
      "George_Clooney incorrect (recognized as Jeong_Se-hyun with confidence 84.3520827693)\n",
      "Colin_Farrell is correctly recognized with confidence 80.9041468586\n",
      "Charles_Taylor incorrect (recognized as Colin_Farrell with confidence 91.0965599831)\n",
      "\n",
      "Accuracy: 50.00%\n",
      "Correct:  5\n",
      "Wrong:    5\n",
      "CPU times: user 80 ms, sys: 0 ns, total: 80 ms\n",
      "Wall time: 75.9 ms\n"
     ]
    }
   ],
   "source": [
    "%%time\n",
    "perform_testing(recognizer, testing_set)"
   ]
  }
 ],
 "metadata": {
  "kernelspec": {
   "display_name": "Tensorflow",
   "language": "python",
   "name": "tensorflow"
  },
  "language_info": {
   "codemirror_mode": {
    "name": "ipython",
    "version": 3
   },
   "file_extension": ".py",
   "mimetype": "text/x-python",
   "name": "python",
   "nbconvert_exporter": "python",
   "pygments_lexer": "ipython3",
   "version": "3.5.2"
  }
 },
 "nbformat": 4,
 "nbformat_minor": 2
}
