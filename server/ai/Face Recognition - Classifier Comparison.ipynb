{
 "cells": [
  {
   "cell_type": "markdown",
   "metadata": {},
   "source": [
    "# Face Recognition - Generate Eigenface Classifiers\n",
    "\n",
    "This notebook tests face detection and recognition from sample images"
   ]
  },
  {
   "cell_type": "code",
   "execution_count": 1,
   "metadata": {
    "collapsed": true
   },
   "outputs": [],
   "source": [
    "import cv2, cv2.face\n",
    "import os, os.path\n",
    "import numpy as np\n",
    "from PIL import Image"
   ]
  },
  {
   "cell_type": "code",
   "execution_count": 2,
   "metadata": {
    "collapsed": true
   },
   "outputs": [],
   "source": [
    "# constants\n",
    "CASCADE_PATH = './data/'\n",
    "CASCADE_NAME = 'haarcascade_frontalface_default.xml'\n",
    "SAMPLE_TRAINING = './data/sample_training/'\n",
    "SAMPLE_TESTING = './data/sample_testing/'"
   ]
  },
  {
   "cell_type": "code",
   "execution_count": 3,
   "metadata": {
    "collapsed": true
   },
   "outputs": [],
   "source": [
    "#vSAMPLE_TRAINING = '/home/rico/datasets/lfw/raw/'"
   ]
  },
  {
   "cell_type": "code",
   "execution_count": 4,
   "metadata": {
    "collapsed": false
   },
   "outputs": [],
   "source": [
    "# Viola-Jones classifier for Haar feature extraction\n",
    "cascader_file = os.path.join(CASCADE_PATH, CASCADE_NAME)\n",
    "cascader = cv2.CascadeClassifier(cascader_file)\n",
    "assert(not cascader.empty())\n",
    "\n",
    "cascader_kwargs = { # setup detection args here\n",
    "    'scaleFactor': 1.1,\n",
    "    'minNeighbors': 2,\n",
    "    'flags': 2\n",
    "}"
   ]
  },
  {
   "cell_type": "code",
   "execution_count": 5,
   "metadata": {
    "collapsed": true
   },
   "outputs": [],
   "source": [
    "from util import get_images_and_labels"
   ]
  },
  {
   "cell_type": "code",
   "execution_count": 6,
   "metadata": {
    "collapsed": false
   },
   "outputs": [
    {
     "name": "stdout",
     "output_type": "stream",
     "text": [
      "Accuracy: 100.00000%\n"
     ]
    }
   ],
   "source": [
    "# setup label dictionary and testing set\n",
    "\n",
    "label_dict = {}\n",
    "label_array = []\n",
    "    \n",
    "testing_set = get_images_and_labels(SAMPLE_TESTING, cascader=cascader, detect_faces=False, debug=False, debug_faces=True, debug_accuracy=True)\n"
   ]
  },
  {
   "cell_type": "code",
   "execution_count": 7,
   "metadata": {
    "collapsed": true
   },
   "outputs": [],
   "source": [
    "def perform_training(recognizer, **kwargs):\n",
    "    training_set = get_images_and_labels(SAMPLE_TRAINING, **kwargs)\n",
    "    images, labels = training_set\n",
    "    \n",
    "    label_dict.clear()\n",
    "    label_array.clear()\n",
    "    \n",
    "    for label in labels:\n",
    "        if label not in label_dict:\n",
    "            label_dict[label] = len(label_dict)\n",
    "            label_array.append(label)\n",
    "    print(label_dict)\n",
    "    print([label_dict[label] for label in labels])\n",
    "    recognizer.train(images, np.array([label_dict[label] for label in labels]))\n",
    "    print('Trained %d images\\n' % len(images))"
   ]
  },
  {
   "cell_type": "code",
   "execution_count": 8,
   "metadata": {
    "collapsed": true
   },
   "outputs": [],
   "source": [
    "def perform_testing(recognizer):\n",
    "    %%time\n",
    "    # Perform testing\n",
    "\n",
    "    images, labels = testing_set\n",
    "    zipped = zip(images, labels)\n",
    "    print('Performing %d tests\\n' % len(images))\n",
    "\n",
    "    correct = 0\n",
    "    total = 0\n",
    "\n",
    "    for image, expected in zipped:\n",
    "        if expected not in label_dict:\n",
    "            print('No face found for %s' % expected)\n",
    "        else:\n",
    "            eid = label_dict[expected]\n",
    "            lid, confidence = recognizer.predict(image)\n",
    "            if lid != -1:\n",
    "                actual = label_array[lid]\n",
    "                if eid == lid:\n",
    "                    correct += 1\n",
    "                    print('%s is correctly recognized with confidence %.10f' % (expected, confidence))\n",
    "                else:\n",
    "                    print('%s incorrect (recognized as %s with confidence %.10f)' % (expected, actual, confidence))\n",
    "            else:\n",
    "                print('No face found for %s' % expected)\n",
    "        total += 1\n",
    "\n",
    "    print()\n",
    "    print('Accuracy: %.2f%%' % (100 * (correct / max(1, total))))\n",
    "    print('Correct:  %d' % correct)\n",
    "    print('Wrong:    %d' % (total - correct))"
   ]
  },
  {
   "cell_type": "markdown",
   "metadata": {},
   "source": [
    "# 1. EigenFaces"
   ]
  },
  {
   "cell_type": "code",
   "execution_count": 9,
   "metadata": {
    "collapsed": false
   },
   "outputs": [],
   "source": [
    "# face recognizer\n",
    "recognizer = cv2.face.createEigenFaceRecognizer()"
   ]
  },
  {
   "cell_type": "code",
   "execution_count": 10,
   "metadata": {
    "collapsed": false,
    "scrolled": true
   },
   "outputs": [
    {
     "name": "stdout",
     "output_type": "stream",
     "text": [
      "Accuracy: 100.00000%\n",
      "{'George_Clooney': 7, 'Hosni_Mubarak': 0, 'Fernando_Gonzalez': 6, 'Colin_Farrell': 8, 'Charles_Taylor': 9, 'Hugh_Grant': 5, 'Jeong_Se-hyun': 1, 'Jesse_Jackson': 4, 'Heizo_Takenaka': 3, 'Aaron_Peirsol': 2}\n",
      "[0, 0, 0, 0, 0, 0, 0, 0, 1, 1, 1, 1, 1, 1, 1, 1, 2, 2, 2, 3, 3, 3, 3, 3, 3, 3, 3, 4, 4, 4, 4, 4, 4, 4, 4, 5, 5, 5, 5, 5, 5, 5, 5, 6, 6, 6, 6, 6, 6, 6, 6, 7, 7, 7, 7, 7, 7, 7, 7, 8, 8, 8, 8, 8, 8, 8, 8, 9, 9, 9, 9, 9, 9, 9, 9]\n",
      "Trained 75 images\n",
      "\n",
      "CPU times: user 580 ms, sys: 24 ms, total: 604 ms\n",
      "Wall time: 600 ms\n"
     ]
    }
   ],
   "source": [
    "%%time\n",
    "# Perform the training\n",
    "perform_training(recognizer, detect_faces=False, cascader=cascader)"
   ]
  },
  {
   "cell_type": "code",
   "execution_count": 11,
   "metadata": {
    "collapsed": false
   },
   "outputs": [
    {
     "name": "stdout",
     "output_type": "stream",
     "text": [
      "CPU times: user 0 ns, sys: 0 ns, total: 0 ns\n",
      "Wall time: 4.05 µs\n",
      "Performing 10 tests\n",
      "\n",
      "Hosni_Mubarak incorrect (recognized as Hugh_Grant with confidence 7709.3543340320)\n",
      "Jeong_Se-hyun incorrect (recognized as Jesse_Jackson with confidence 9224.6342818637)\n",
      "Aaron_Peirsol incorrect (recognized as Jeong_Se-hyun with confidence 7707.7644787612)\n",
      "Heizo_Takenaka is correctly recognized with confidence 7660.4060534007\n",
      "Jesse_Jackson incorrect (recognized as George_Clooney with confidence 7555.9205502438)\n",
      "Hugh_Grant is correctly recognized with confidence 7110.0422084874\n",
      "Fernando_Gonzalez is correctly recognized with confidence 7212.4169510010\n",
      "George_Clooney is correctly recognized with confidence 8450.9567331031\n",
      "Colin_Farrell incorrect (recognized as Hugh_Grant with confidence 7860.5953948817)\n",
      "Charles_Taylor incorrect (recognized as Fernando_Gonzalez with confidence 9513.5099176005)\n",
      "\n",
      "Accuracy: 40.00%\n",
      "Correct:  4\n",
      "Wrong:    6\n"
     ]
    }
   ],
   "source": [
    "perform_testing(recognizer)"
   ]
  },
  {
   "cell_type": "markdown",
   "metadata": {},
   "source": [
    "# 2. FisherFaces"
   ]
  },
  {
   "cell_type": "code",
   "execution_count": 12,
   "metadata": {
    "collapsed": true
   },
   "outputs": [],
   "source": [
    "# face recognizer\n",
    "recognizer = cv2.face.createFisherFaceRecognizer()"
   ]
  },
  {
   "cell_type": "code",
   "execution_count": 13,
   "metadata": {
    "collapsed": false
   },
   "outputs": [
    {
     "name": "stdout",
     "output_type": "stream",
     "text": [
      "Hosni_Mubarak\n",
      "\tHosni_Mubarak_0007.png [1 face]\n",
      "\tHosni_Mubarak_0003.png [1 face]\n",
      "\tHosni_Mubarak_0004.png [1 face]\n",
      "\tHosni_Mubarak_0008.png [1 face]\n",
      "\tHosni_Mubarak_0005.png [1 face]\n",
      "\tHosni_Mubarak_0001.png [1 face]\n",
      "\tHosni_Mubarak_0006.png [1 face]\n",
      "\tHosni_Mubarak_0002.png [1 face]\n",
      "[Added 8 images]\n",
      "Jeong_Se-hyun\n",
      "\tJeong_Se-hyun_0007.png [1 face]\n",
      "\tJeong_Se-hyun_0001.png [1 face]\n",
      "\tJeong_Se-hyun_0008.png [1 face]\n",
      "\tJeong_Se-hyun_0003.png [1 face]\n",
      "\tJeong_Se-hyun_0004.png [1 face]\n",
      "\tJeong_Se-hyun_0002.png [1 face]\n",
      "\tJeong_Se-hyun_0005.png [1 face]\n",
      "\tJeong_Se-hyun_0006.png [1 face]\n",
      "[Added 16 images]\n",
      "Aaron_Peirsol\n",
      "\tAaron_Peirsol_0003.png [1 face]\n",
      "\tAaron_Peirsol_0001.png [1 face]\n",
      "\tAaron_Peirsol_0002.png [1 face]\n",
      "[Added 19 images]\n",
      "Heizo_Takenaka\n",
      "\tHeizo_Takenaka_0002.png [1 face]\n",
      "\tHeizo_Takenaka_0007.png [1 face]\n",
      "\tHeizo_Takenaka_0001.png [1 face]\n",
      "\tHeizo_Takenaka_0006.png [1 face]\n",
      "\tHeizo_Takenaka_0004.png [1 face]\n",
      "\tHeizo_Takenaka_0008.png [1 face]\n",
      "\tHeizo_Takenaka_0003.png [1 face]\n",
      "\tHeizo_Takenaka_0005.png [1 face]\n",
      "[Added 27 images]\n",
      "Jesse_Jackson\n",
      "\tJesse_Jackson_0001.png [1 face]\n",
      "\tJesse_Jackson_0007.png [1 face]\n",
      "\tJesse_Jackson_0004.png [1 face]\n",
      "\tJesse_Jackson_0002.png [1 face]\n",
      "\tJesse_Jackson_0003.png [1 face]\n",
      "\tJesse_Jackson_0008.png [1 face]\n",
      "\tJesse_Jackson_0006.png [1 face]\n",
      "\tJesse_Jackson_0005.png [1 face]\n",
      "[Added 35 images]\n",
      "Hugh_Grant\n",
      "\tHugh_Grant_0002.png [1 face]\n",
      "\tHugh_Grant_0006.png [1 face]\n",
      "\tHugh_Grant_0004.png [1 face]\n",
      "\tHugh_Grant_0008.png [1 face]\n",
      "\tHugh_Grant_0001.png [1 face]\n",
      "\tHugh_Grant_0007.png [1 face]\n",
      "\tHugh_Grant_0003.png [1 face]\n",
      "\tHugh_Grant_0005.png [1 face]\n",
      "[Added 43 images]\n",
      "Fernando_Gonzalez\n",
      "\tFernando_Gonzalez_0006.png [1 face]\n",
      "\tFernando_Gonzalez_0007.png [1 face]\n",
      "\tFernando_Gonzalez_0004.png [1 face]\n",
      "\tFernando_Gonzalez_0002.png [1 face]\n",
      "\tFernando_Gonzalez_0003.png [1 face]\n",
      "\tFernando_Gonzalez_0001.png [1 face]\n",
      "\tFernando_Gonzalez_0005.png [1 face]\n",
      "\tFernando_Gonzalez_0008.png [1 face]\n",
      "[Added 51 images]\n",
      "George_Clooney\n",
      "\tGeorge_Clooney_0007.png [1 face]\n",
      "\tGeorge_Clooney_0001.png [1 face]\n",
      "\tGeorge_Clooney_0003.png [1 face]\n",
      "\tGeorge_Clooney_0006.png [1 face]\n",
      "\tGeorge_Clooney_0005.png [1 face]\n",
      "\tGeorge_Clooney_0008.png [1 face]\n",
      "\tGeorge_Clooney_0004.png [1 face]\n",
      "\tGeorge_Clooney_0002.png [1 face]\n",
      "[Added 59 images]\n",
      "Colin_Farrell\n",
      "\tColin_Farrell_0007.png [1 face]\n",
      "\tColin_Farrell_0002.png [1 face]\n",
      "\tColin_Farrell_0006.png [1 face]\n",
      "\tColin_Farrell_0003.png [1 face]\n",
      "\tColin_Farrell_0004.png [1 face]\n",
      "\tColin_Farrell_0008.png [1 face]\n",
      "\tColin_Farrell_0005.png [1 face]\n",
      "\tColin_Farrell_0001.png [1 face]\n",
      "[Added 67 images]\n",
      "Charles_Taylor\n",
      "\tCharles_Taylor_0002.png [1 face]\n",
      "\tCharles_Taylor_0005.png [1 face]\n",
      "\tCharles_Taylor_0004.png [1 face]\n",
      "\tCharles_Taylor_0001.png [1 face]\n",
      "\tCharles_Taylor_0007.png [1 face]\n",
      "\tCharles_Taylor_0003.png [1 face]\n",
      "\tCharles_Taylor_0006.png [1 face]\n",
      "\tCharles_Taylor_0008.png [1 face]\n",
      "[Added 75 images]\n",
      "Accuracy: 100.00000%\n",
      "{'George_Clooney': 7, 'Hosni_Mubarak': 0, 'Fernando_Gonzalez': 6, 'Colin_Farrell': 8, 'Charles_Taylor': 9, 'Hugh_Grant': 5, 'Jeong_Se-hyun': 1, 'Jesse_Jackson': 4, 'Heizo_Takenaka': 3, 'Aaron_Peirsol': 2}\n",
      "[0, 0, 0, 0, 0, 0, 0, 0, 1, 1, 1, 1, 1, 1, 1, 1, 2, 2, 2, 3, 3, 3, 3, 3, 3, 3, 3, 4, 4, 4, 4, 4, 4, 4, 4, 5, 5, 5, 5, 5, 5, 5, 5, 6, 6, 6, 6, 6, 6, 6, 6, 7, 7, 7, 7, 7, 7, 7, 7, 8, 8, 8, 8, 8, 8, 8, 8, 9, 9, 9, 9, 9, 9, 9, 9]\n",
      "Trained 75 images\n",
      "\n",
      "CPU times: user 488 ms, sys: 16 ms, total: 504 ms\n",
      "Wall time: 495 ms\n"
     ]
    }
   ],
   "source": [
    "%%time\n",
    "perform_training(recognizer, debug=True, debug_faces=False, detect_faces=False)"
   ]
  },
  {
   "cell_type": "code",
   "execution_count": 14,
   "metadata": {
    "collapsed": false
   },
   "outputs": [
    {
     "name": "stdout",
     "output_type": "stream",
     "text": [
      "CPU times: user 0 ns, sys: 0 ns, total: 0 ns\n",
      "Wall time: 3.34 µs\n",
      "Performing 10 tests\n",
      "\n",
      "Hosni_Mubarak incorrect (recognized as Hugh_Grant with confidence 1358.7258628299)\n",
      "Jeong_Se-hyun incorrect (recognized as Hosni_Mubarak with confidence 1960.9871499361)\n",
      "Aaron_Peirsol incorrect (recognized as Hosni_Mubarak with confidence 1491.9996239568)\n",
      "Heizo_Takenaka incorrect (recognized as Colin_Farrell with confidence 2196.2782370959)\n",
      "Jesse_Jackson incorrect (recognized as Hugh_Grant with confidence 1464.6791591270)\n",
      "Hugh_Grant is correctly recognized with confidence 1687.1694825283\n",
      "Fernando_Gonzalez is correctly recognized with confidence 1754.4300679463\n",
      "George_Clooney is correctly recognized with confidence 1596.7317624799\n",
      "Colin_Farrell incorrect (recognized as Fernando_Gonzalez with confidence 1637.2118716964)\n",
      "Charles_Taylor incorrect (recognized as Hosni_Mubarak with confidence 1644.8235677224)\n",
      "\n",
      "Accuracy: 30.00%\n",
      "Correct:  3\n",
      "Wrong:    7\n",
      "CPU times: user 8 ms, sys: 0 ns, total: 8 ms\n",
      "Wall time: 4.98 ms\n"
     ]
    }
   ],
   "source": [
    "%%time\n",
    "perform_testing(recognizer)"
   ]
  },
  {
   "cell_type": "markdown",
   "metadata": {},
   "source": [
    "# 2. Local Binary Patterns"
   ]
  },
  {
   "cell_type": "code",
   "execution_count": 15,
   "metadata": {
    "collapsed": true
   },
   "outputs": [],
   "source": [
    "# face recognizer\n",
    "recognizer = cv2.face.createLBPHFaceRecognizer()"
   ]
  },
  {
   "cell_type": "code",
   "execution_count": 16,
   "metadata": {
    "collapsed": false
   },
   "outputs": [
    {
     "name": "stdout",
     "output_type": "stream",
     "text": [
      "Accuracy: 94.66667%\n",
      "{'George_Clooney': 7, 'Hosni_Mubarak': 0, 'Fernando_Gonzalez': 6, 'Colin_Farrell': 8, 'Charles_Taylor': 9, 'Hugh_Grant': 5, 'Jeong_Se-hyun': 1, 'Jesse_Jackson': 4, 'Heizo_Takenaka': 3, 'Aaron_Peirsol': 2}\n",
      "[0, 0, 0, 0, 0, 0, 0, 0, 1, 1, 1, 1, 1, 1, 1, 1, 2, 2, 2, 3, 3, 3, 3, 3, 3, 3, 3, 4, 4, 4, 4, 4, 4, 5, 5, 5, 5, 5, 5, 5, 5, 6, 6, 6, 6, 6, 6, 7, 7, 7, 7, 7, 7, 7, 7, 8, 8, 8, 8, 8, 8, 8, 8, 9, 9, 9, 9, 9, 9, 9, 9]\n",
      "Trained 71 images\n",
      "\n",
      "CPU times: user 2.62 s, sys: 24 ms, total: 2.64 s\n",
      "Wall time: 1.15 s\n"
     ]
    }
   ],
   "source": [
    "%%time\n",
    "perform_training(recognizer, cascader=cascader)"
   ]
  },
  {
   "cell_type": "code",
   "execution_count": 17,
   "metadata": {
    "collapsed": false
   },
   "outputs": [
    {
     "name": "stdout",
     "output_type": "stream",
     "text": [
      "CPU times: user 0 ns, sys: 0 ns, total: 0 ns\n",
      "Wall time: 3.34 µs\n",
      "Performing 10 tests\n",
      "\n",
      "Hosni_Mubarak incorrect (recognized as Charles_Taylor with confidence 97.1662617714)\n",
      "Jeong_Se-hyun incorrect (recognized as Charles_Taylor with confidence 85.1684303021)\n",
      "Aaron_Peirsol incorrect (recognized as Charles_Taylor with confidence 79.9038326453)\n",
      "Heizo_Takenaka incorrect (recognized as Charles_Taylor with confidence 85.1785419217)\n",
      "Jesse_Jackson incorrect (recognized as Charles_Taylor with confidence 66.3214017200)\n",
      "Hugh_Grant incorrect (recognized as Charles_Taylor with confidence 81.8931253215)\n",
      "Fernando_Gonzalez is correctly recognized with confidence 71.3826883620\n",
      "George_Clooney incorrect (recognized as Charles_Taylor with confidence 81.4138628045)\n",
      "Colin_Farrell incorrect (recognized as Charles_Taylor with confidence 78.3390875249)\n",
      "Charles_Taylor is correctly recognized with confidence 80.2390735344\n",
      "\n",
      "Accuracy: 20.00%\n",
      "Correct:  2\n",
      "Wrong:    8\n",
      "CPU times: user 76 ms, sys: 8 ms, total: 84 ms\n",
      "Wall time: 83.9 ms\n"
     ]
    }
   ],
   "source": [
    "%%time\n",
    "perform_testing(recognizer)"
   ]
  },
  {
   "cell_type": "code",
   "execution_count": null,
   "metadata": {
    "collapsed": true
   },
   "outputs": [],
   "source": []
  }
 ],
 "metadata": {
  "kernelspec": {
   "display_name": "Tensorflow",
   "language": "python",
   "name": "tensorflow"
  },
  "language_info": {
   "codemirror_mode": {
    "name": "ipython",
    "version": 3
   },
   "file_extension": ".py",
   "mimetype": "text/x-python",
   "name": "python",
   "nbconvert_exporter": "python",
   "pygments_lexer": "ipython3",
   "version": "3.5.2"
  }
 },
 "nbformat": 4,
 "nbformat_minor": 2
}
