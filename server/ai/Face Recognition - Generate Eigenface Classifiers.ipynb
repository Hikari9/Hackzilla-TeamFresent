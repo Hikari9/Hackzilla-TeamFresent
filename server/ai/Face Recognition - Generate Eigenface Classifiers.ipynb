{
 "cells": [
  {
   "cell_type": "markdown",
   "metadata": {},
   "source": [
    "# Face Recognition - Generate Eigenface Classifiers\n",
    "\n",
    "This notebook tests face detection and recognition from sample images"
   ]
  },
  {
   "cell_type": "code",
   "execution_count": 1,
   "metadata": {
    "collapsed": true
   },
   "outputs": [],
   "source": [
    "import cv2, cv2.face\n",
    "import os, os.path\n",
    "import numpy as np\n",
    "from PIL import Image"
   ]
  },
  {
   "cell_type": "code",
   "execution_count": 73,
   "metadata": {
    "collapsed": true
   },
   "outputs": [],
   "source": [
    "# constants\n",
    "CASCADE_PATH = './data/haarcascades/'\n",
    "CASCADE_NAME = './haarcascade_frontalface_default.xml'\n",
    "SAMPLE_TRAINING = './data/sample_training/'\n",
    "SAMPLE_TESTING = './data/sample_testing/'"
   ]
  },
  {
   "cell_type": "code",
   "execution_count": 3,
   "metadata": {
    "collapsed": true
   },
   "outputs": [],
   "source": [
    "# Viola-Jones classifier for Haar feature extraction \n",
    "cascader = cv2.CascadeClassifier(os.path.join(CASCADE_PATH, CASCADE_NAME))\n",
    "cascader_kwargs = { # setup detection args here\n",
    "    'scaleFactor': 1.1,\n",
    "    'minNeighbors': 1,\n",
    "    'flags': 0\n",
    "}"
   ]
  },
  {
   "cell_type": "code",
   "execution_count": 4,
   "metadata": {
    "collapsed": true
   },
   "outputs": [],
   "source": [
    "# face recognizer\n",
    "recognizer = cv2.face.createEigenFaceRecognizer()"
   ]
  },
  {
   "cell_type": "code",
   "execution_count": 58,
   "metadata": {
    "collapsed": true
   },
   "outputs": [],
   "source": [
    "# function that gets images with respective labels from a given folder\n",
    "def get_images_and_labels(folder, debug=False, debug_faces=True):\n",
    "    \n",
    "    labels = []\n",
    "    images = []\n",
    "    \n",
    "    for label in os.listdir(folder):\n",
    "        \n",
    "        if debug: print(label)\n",
    "        added = 0\n",
    "        path = os.path.join(folder, label)\n",
    "        \n",
    "        if os.path.isdir(path):\n",
    "            \n",
    "            for filename in os.listdir(path):\n",
    "                \n",
    "                ok = 0\n",
    "\n",
    "                try:\n",
    "                    image_path = os.path.join(path, filename)\n",
    "\n",
    "                    # get grayscale image\n",
    "                    image_pil = Image.open(image_path).convert('L')\n",
    "                    image = np.array(image_pil, 'uint8')\n",
    "                    \n",
    "                    # Alternative for Eigenfaces\n",
    "                    images.append(image)\n",
    "                    labels.append(label)\n",
    "                    ok = 1\n",
    "                    \n",
    "                    '''\n",
    "\n",
    "                    # get the face using Viola-Jones detector\n",
    "                    faces = cascader.detectMultiScale(image, **cascader_kwargs)\n",
    "                    for (x, y, w, h) in faces:\n",
    "                        images.append(image[y:y+h, x:x+w])\n",
    "                        labels.append(label)\n",
    "                        if debug_faces:\n",
    "                            cv2.imshow('Adding faces to training set...', image[y:y+h, x:x+w])\n",
    "                            cv2.waitKey(50)\n",
    "                    ok += len(faces)\n",
    "                    '''\n",
    "                    \n",
    "\n",
    "                except:\n",
    "                    pass\n",
    "                \n",
    "                if debug: print('\\t' + filename + (' [%d face]' % ok))\n",
    "                if ok: added += 1\n",
    "        \n",
    "        if debug: print('[Added %d images]' % added)\n",
    "    \n",
    "    if debug_faces:\n",
    "        cv2.destroyAllWindows()\n",
    "        \n",
    "    return images, labels\n",
    "    "
   ]
  },
  {
   "cell_type": "code",
   "execution_count": 48,
   "metadata": {
    "collapsed": false
   },
   "outputs": [
    {
     "name": "stdout",
     "output_type": "stream",
     "text": [
      "Collected 75 images\n",
      "\n",
      "CPU times: user 140 ms, sys: 8 ms, total: 148 ms\n",
      "Wall time: 175 ms\n"
     ]
    }
   ],
   "source": [
    "%%time\n",
    "# try getting labels from sample images folder\n",
    "training_set = get_images_and_labels(SAMPLE_TRAINING, debug=False, debug_faces=False)\n",
    "print('Collected %d images\\n' % len(training_set[0]))"
   ]
  },
  {
   "cell_type": "code",
   "execution_count": 49,
   "metadata": {
    "collapsed": false
   },
   "outputs": [
    {
     "name": "stdout",
     "output_type": "stream",
     "text": [
      "Trained 75 images\n",
      "\n",
      "CPU times: user 472 ms, sys: 88 ms, total: 560 ms\n",
      "Wall time: 555 ms\n"
     ]
    }
   ],
   "source": [
    "%%time\n",
    "# Perform the training\n",
    "images, labels = training_set\n",
    "recognizer.train(images, np.array(range(len(images))))\n",
    "print('Trained %d images\\n' % len(images))"
   ]
  },
  {
   "cell_type": "code",
   "execution_count": 59,
   "metadata": {
    "collapsed": false
   },
   "outputs": [],
   "source": [
    "# setup label dictionary and testing set\n",
    "testing_set = get_images_and_labels(SAMPLE_TESTING, debug=False, debug_faces=False)\n",
    "label_dict = {i: label for i, label in enumerate(labels)}"
   ]
  },
  {
   "cell_type": "code",
   "execution_count": 65,
   "metadata": {
    "collapsed": false
   },
   "outputs": [
    {
     "name": "stdout",
     "output_type": "stream",
     "text": [
      "Help on built-in function predict:\n",
      "\n",
      "predict(...) method of cv2.face_BasicFaceRecognizer instance\n",
      "    predict(src) -> label, confidence\n",
      "\n"
     ]
    }
   ],
   "source": [
    "help(recognizer.predict)"
   ]
  },
  {
   "cell_type": "code",
   "execution_count": 74,
   "metadata": {
    "collapsed": false
   },
   "outputs": [
    {
     "name": "stdout",
     "output_type": "stream",
     "text": [
      "Performing 75 tests\n",
      "\n",
      "Hosni_Mubarak is correctly recognized with confidence 0.0000000000\n",
      "Hosni_Mubarak is correctly recognized with confidence 0.0000000000\n",
      "Hosni_Mubarak is correctly recognized with confidence 0.0000000000\n",
      "Hosni_Mubarak is correctly recognized with confidence 0.0000000000\n",
      "Hosni_Mubarak is correctly recognized with confidence 0.0000000000\n",
      "Hosni_Mubarak is correctly recognized with confidence 0.0000000000\n",
      "Hosni_Mubarak is correctly recognized with confidence 0.0000000000\n",
      "Hosni_Mubarak is correctly recognized with confidence 0.0000000000\n",
      "Jeong_Se-hyun is correctly recognized with confidence 0.0000000000\n",
      "Jeong_Se-hyun is correctly recognized with confidence 0.0000000000\n",
      "Jeong_Se-hyun is correctly recognized with confidence 0.0000000000\n",
      "Jeong_Se-hyun is correctly recognized with confidence 0.0000000000\n",
      "Jeong_Se-hyun is correctly recognized with confidence 0.0000000000\n",
      "Jeong_Se-hyun is correctly recognized with confidence 0.0000000000\n",
      "Jeong_Se-hyun is correctly recognized with confidence 0.0000000000\n",
      "Jeong_Se-hyun is correctly recognized with confidence 0.0000000000\n",
      "Aaron_Peirsol is correctly recognized with confidence 0.0000000000\n",
      "Aaron_Peirsol is correctly recognized with confidence 0.0000000000\n",
      "Aaron_Peirsol is correctly recognized with confidence 0.0000000000\n",
      "Heizo_Takenaka is correctly recognized with confidence 0.0000000000\n",
      "Heizo_Takenaka is correctly recognized with confidence 0.0000000000\n",
      "Heizo_Takenaka is correctly recognized with confidence 0.0000000000\n",
      "Heizo_Takenaka is correctly recognized with confidence 0.0000000000\n",
      "Heizo_Takenaka is correctly recognized with confidence 0.0000000000\n",
      "Heizo_Takenaka is correctly recognized with confidence 0.0000000000\n",
      "Heizo_Takenaka is correctly recognized with confidence 0.0000000000\n",
      "Heizo_Takenaka is correctly recognized with confidence 0.0000000000\n",
      "Jesse_Jackson is correctly recognized with confidence 0.0000000000\n",
      "Jesse_Jackson is correctly recognized with confidence 0.0000000000\n",
      "Jesse_Jackson is correctly recognized with confidence 0.0000000000\n",
      "Jesse_Jackson is correctly recognized with confidence 0.0000000000\n",
      "Jesse_Jackson is correctly recognized with confidence 0.0000000000\n",
      "Jesse_Jackson is correctly recognized with confidence 0.0000000000\n",
      "Jesse_Jackson is correctly recognized with confidence 0.0000000000\n",
      "Jesse_Jackson is correctly recognized with confidence 0.0000000000\n",
      "Hugh_Grant is correctly recognized with confidence 0.0000000000\n",
      "Hugh_Grant is correctly recognized with confidence 0.0000000000\n",
      "Hugh_Grant is correctly recognized with confidence 0.0000000000\n",
      "Hugh_Grant is correctly recognized with confidence 0.0000000000\n",
      "Hugh_Grant is correctly recognized with confidence 0.0000000000\n",
      "Hugh_Grant is correctly recognized with confidence 0.0000000000\n",
      "Hugh_Grant is correctly recognized with confidence 0.0000000000\n",
      "Hugh_Grant is correctly recognized with confidence 0.0000000000\n",
      "Fernando_Gonzalez is correctly recognized with confidence 0.0000000000\n",
      "Fernando_Gonzalez is correctly recognized with confidence 0.0000000000\n",
      "Fernando_Gonzalez is correctly recognized with confidence 0.0000000000\n",
      "Fernando_Gonzalez is correctly recognized with confidence 0.0000000000\n",
      "Fernando_Gonzalez is correctly recognized with confidence 0.0000000000\n",
      "Fernando_Gonzalez is correctly recognized with confidence 0.0000000000\n",
      "Fernando_Gonzalez is correctly recognized with confidence 0.0000000000\n",
      "Fernando_Gonzalez is correctly recognized with confidence 0.0000000000\n",
      "George_Clooney is correctly recognized with confidence 0.0000000000\n",
      "George_Clooney is correctly recognized with confidence 0.0000000000\n",
      "George_Clooney is correctly recognized with confidence 0.0000000000\n",
      "George_Clooney is correctly recognized with confidence 0.0000000000\n",
      "George_Clooney is correctly recognized with confidence 0.0000000000\n",
      "George_Clooney is correctly recognized with confidence 0.0000000000\n",
      "George_Clooney is correctly recognized with confidence 0.0000000000\n",
      "George_Clooney is correctly recognized with confidence 0.0000000000\n",
      "Colin_Farrell is correctly recognized with confidence 0.0000000000\n",
      "Colin_Farrell is correctly recognized with confidence 0.0000000000\n",
      "Colin_Farrell is correctly recognized with confidence 0.0000000000\n",
      "Colin_Farrell is correctly recognized with confidence 0.0000000000\n",
      "Colin_Farrell is correctly recognized with confidence 0.0000000000\n",
      "Colin_Farrell is correctly recognized with confidence 0.0000000000\n",
      "Colin_Farrell is correctly recognized with confidence 0.0000000000\n",
      "Colin_Farrell is correctly recognized with confidence 0.0000000000\n",
      "Charles_Taylor is correctly recognized with confidence 0.0000000000\n",
      "Charles_Taylor is correctly recognized with confidence 0.0000000000\n",
      "Charles_Taylor is correctly recognized with confidence 0.0000000000\n",
      "Charles_Taylor is correctly recognized with confidence 0.0000000000\n",
      "Charles_Taylor is correctly recognized with confidence 0.0000000000\n",
      "Charles_Taylor is correctly recognized with confidence 0.0000000000\n",
      "Charles_Taylor is correctly recognized with confidence 0.0000000000\n",
      "Charles_Taylor is correctly recognized with confidence 0.0000000000\n",
      "\n",
      "Accuracy: 100.00%\n",
      "Correct:  75\n",
      "Wrong:    0\n",
      "CPU times: user 296 ms, sys: 4 ms, total: 300 ms\n",
      "Wall time: 306 ms\n"
     ]
    }
   ],
   "source": [
    "%%time\n",
    "# Perform testing\n",
    "\n",
    "images, labels = training_set\n",
    "print('Performing %d tests\\n' % len(images))\n",
    "\n",
    "correct = 0\n",
    "total = 0\n",
    "\n",
    "\n",
    "for image, expected_label in zip(images, labels):\n",
    "    label, confidence = recognizer.predict(image)\n",
    "    actual_label = label_dict[label]\n",
    "    if actual_label == expected_label:\n",
    "        correct += 1\n",
    "        print('%s is correctly recognized with confidence %.10f' % (actual_label, confidence))\n",
    "    else:\n",
    "        print('%s incorrect (recognized as %s with confidence %.10f)' % (actual_label, expected_label, confidence))\n",
    "    total += 1\n",
    "\n",
    "print()\n",
    "print('Accuracy: %.2f%%' % (100 * (correct / max(1, total))))\n",
    "print('Correct:  %d' % correct)\n",
    "print('Wrong:    %d' % (total - correct))"
   ]
  },
  {
   "cell_type": "code",
   "execution_count": null,
   "metadata": {
    "collapsed": true
   },
   "outputs": [],
   "source": []
  }
 ],
 "metadata": {
  "kernelspec": {
   "display_name": "Tensorflow",
   "language": "python",
   "name": "tensorflow"
  },
  "language_info": {
   "codemirror_mode": {
    "name": "ipython",
    "version": 3
   },
   "file_extension": ".py",
   "mimetype": "text/x-python",
   "name": "python",
   "nbconvert_exporter": "python",
   "pygments_lexer": "ipython3",
   "version": "3.5.2"
  }
 },
 "nbformat": 4,
 "nbformat_minor": 2
}
