{
 "cells": [
  {
   "cell_type": "code",
   "execution_count": 1,
   "metadata": {
    "collapsed": false
   },
   "outputs": [
    {
     "name": "stdout",
     "output_type": "stream",
     "text": [
      "/home/rico/Git/AI-Fresent/server/ai\n"
     ]
    }
   ],
   "source": [
    "cd .."
   ]
  },
  {
   "cell_type": "code",
   "execution_count": 2,
   "metadata": {
    "collapsed": false
   },
   "outputs": [],
   "source": [
    "from fresent.util import *\n",
    "from fresent.predict import *\n",
    "import os, os.path, cv2"
   ]
  },
  {
   "cell_type": "code",
   "execution_count": 3,
   "metadata": {
    "collapsed": false
   },
   "outputs": [],
   "source": [
    "model = 'model/model.xml'\n",
    "data = 'data/progvar_aligned/'\n",
    "img = '/home/rico/Desktop/ADMU ProgVar/class/O.JPG'"
   ]
  },
  {
   "cell_type": "code",
   "execution_count": 6,
   "metadata": {
    "collapsed": false
   },
   "outputs": [
    {
     "name": "stdout",
     "output_type": "stream",
     "text": [
      "Prediction:  Jaren [1631  682  141  141]\n",
      "Prediction:  Vernon [984 685 126 126]\n",
      "Prediction:  DavidD [983 328 121 121]\n",
      "Prediction:  Aemiel [1509  388  116  116]\n",
      "Prediction:  Jess [1196  680  116  116]\n",
      "Prediction:  Deanne [779 324 131 131]\n",
      "Prediction:  Gabby [584 237 132 132]\n",
      "Prediction:  DavidC [1175  369  133  133]\n"
     ]
    }
   ],
   "source": [
    "# predict all faces\n",
    "\n",
    "predictions = predict_all_faces(img, model)\n",
    "frame = load_grayscale_image(img)\n",
    "\n",
    "for label, rect in predictions.items():\n",
    "    x, y, w, h = rect\n",
    "    print('Prediction: ', label, rect)\n",
    "    cv2.rectangle(frame, (x, y), (x+w, y+h), (255, 0, 0))\n",
    "    cv2.putText(frame, label, (x, y - 20), cv2.FONT_HERSHEY_PLAIN, 5, (100,0,0))\n",
    "\n",
    "frame = cv2.resize(frame, (900, 600))    \n",
    "cv2.imshow('Predictions', frame)"
   ]
  },
  {
   "cell_type": "code",
   "execution_count": 5,
   "metadata": {
    "collapsed": true
   },
   "outputs": [],
   "source": []
  },
  {
   "cell_type": "code",
   "execution_count": null,
   "metadata": {
    "collapsed": true
   },
   "outputs": [],
   "source": []
  }
 ],
 "metadata": {
  "kernelspec": {
   "display_name": "Tensorflow",
   "language": "python",
   "name": "tensorflow"
  },
  "language_info": {
   "codemirror_mode": {
    "name": "ipython",
    "version": 3
   },
   "file_extension": ".py",
   "mimetype": "text/x-python",
   "name": "python",
   "nbconvert_exporter": "python",
   "pygments_lexer": "ipython3",
   "version": "3.5.2"
  }
 },
 "nbformat": 4,
 "nbformat_minor": 2
}
