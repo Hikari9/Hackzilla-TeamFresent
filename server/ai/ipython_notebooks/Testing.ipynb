{
 "cells": [
  {
   "cell_type": "code",
   "execution_count": 1,
   "metadata": {
    "collapsed": false
   },
   "outputs": [
    {
     "name": "stdout",
     "output_type": "stream",
     "text": [
      "/home/rico/Git/AI-Fresent/server/ai\n"
     ]
    }
   ],
   "source": [
    "cd .."
   ]
  },
  {
   "cell_type": "code",
   "execution_count": 2,
   "metadata": {
    "collapsed": false
   },
   "outputs": [],
   "source": [
    "from fresent.util import *\n",
    "from fresent.predict import *\n",
    "import os, os.path, cv2"
   ]
  },
  {
   "cell_type": "code",
   "execution_count": 3,
   "metadata": {
    "collapsed": false
   },
   "outputs": [],
   "source": [
    "model = 'model/model.xml'\n",
    "data = 'data/progvar_aligned/'\n",
    "img_folder = '/home/rico/Desktop/ADMU ProgVar/class/'\n",
    "out_folder = '/home/rico/Desktop/ADMU ProgVar/detect/'"
   ]
  },
  {
   "cell_type": "code",
   "execution_count": 4,
   "metadata": {
    "collapsed": false,
    "scrolled": true
   },
   "outputs": [
    {
     "name": "stdout",
     "output_type": "stream",
     "text": [
      "O.JPG\n",
      "\tPrediction:  DavidC ((772, 317, 138, 138), 59.22107081669642)\n",
      "\tPrediction:  Aldrich ((1623, 674, 149, 149), 74.85309604397183)\n",
      "\tPrediction:  Luis ((195, 420, 144, 144), 66.79404068718944)\n",
      "\tPrediction:  Gabby ((577, 230, 139, 139), 88.7598480743547)\n",
      "\tPrediction:  Vernon ((977, 678, 133, 133), 71.2603419354067)\n",
      "\tPrediction:  Brian ((1391, 649, 151, 151), 71.62708420757218)\n",
      "\tPrediction:  Deanne ((597, 575, 119, 119), 68.20028469853617)\n",
      "\tPrediction:  Ivan ((404, 524, 154, 154), 65.7784169771537)\n",
      "\tPrediction:  Jess ((794, 543, 136, 136), 67.12318322397665)\n",
      "\tPrediction:  Rico ((1168, 362, 140, 140), 66.77218366754121)\n",
      "\tPrediction:  Andre ((976, 321, 128, 128), 67.9355518912814)\n",
      "F.JPG\n",
      "\tPrediction:  DavidC ((1876, 879, 36, 36), 118.39186674653044)\n",
      "\tPrediction:  Aldrich ((1191, 608, 120, 120), 80.09314679449018)\n",
      "\tPrediction:  Luis ((552, 616, 99, 99), 74.46235350572096)\n",
      "\tPrediction:  Vernon ((1095, 369, 94, 94), 61.724228103261645)\n",
      "\tPrediction:  Deanne ((1274, 381, 98, 98), 74.6301256044653)\n",
      "\tPrediction:  Jess ((1746, 380, 109, 109), 78.55914868109642)\n",
      "\tPrediction:  Rico ((1646, 368, 102, 102), 74.055615034898)\n",
      "\tPrediction:  Gabby ((673, 433, 107, 107), 65.15506411922553)\n",
      "\tPrediction:  Aemiel ((1477, 352, 100, 100), 81.93252484600173)\n",
      "I.JPG\n",
      "\tPrediction:  DavidC ((588, 208, 146, 146), 81.66706728302877)\n",
      "\tPrediction:  Aldrich ((313, 298, 113, 113), 80.20427415172409)\n",
      "\tPrediction:  Brian ((439, 359, 159, 159), 68.83739187378053)\n",
      "\tPrediction:  Kyle ((583, 42, 109, 109), 82.57813925908636)\n",
      "\tPrediction:  Deanne ((254, 256, 82, 82), 83.0692722128777)\n",
      "\tPrediction:  DavidD ((674, 587, 193, 193), 92.64370971658515)\n",
      "K.JPG\n",
      "\tPrediction:  DavidC ((246, 298, 108, 108), 69.25017500158356)\n",
      "\tPrediction:  Vernon ((1818, 820, 61, 61), 103.50418760296115)\n",
      "\tPrediction:  Kyle ((1768, 598, 98, 98), 98.9308008043427)\n",
      "\tPrediction:  Jaren ((1018, 661, 211, 211), 106.24832836072292)\n",
      "\tPrediction:  Deanne ((1710, 449, 135, 135), 83.07762638834704)\n",
      "\tPrediction:  Nina ((1686, 1079, 81, 81), 112.88061083569465)\n",
      "\tPrediction:  Jess ((871, 405, 101, 101), 80.4734308068694)\n",
      "\tPrediction:  Rico ((1074, 312, 102, 102), 70.56947234254811)\n",
      "\tPrediction:  Gabby ((502, 261, 85, 85), 61.3477282641969)\n",
      "J.JPG\n",
      "\tPrediction:  DavidC ((756, 540, 34, 34), 103.6808857424249)\n",
      "\tPrediction:  Vernon ((1173, 372, 92, 92), 81.69928723353394)\n",
      "\tPrediction:  Andre ((1717, 417, 109, 109), 87.36971389602266)\n",
      "\tPrediction:  Jaren ((1374, 318, 92, 92), 78.49394172077933)\n",
      "\tPrediction:  Deanne ((1502, 503, 87, 87), 89.89882190189701)\n",
      "\tPrediction:  Ivan ((313, 384, 102, 102), 91.8514126029475)\n",
      "\tPrediction:  Kyle ((770, 568, 111, 111), 94.37283042777435)\n",
      "\tPrediction:  Rico ((1066, 285, 100, 100), 69.57443358046874)\n",
      "\tPrediction:  Gabby ((712, 328, 88, 88), 75.44186684185445)\n",
      "\tPrediction:  DavidD ((973, 378, 92, 92), 84.13447458273806)\n",
      "H.JPG\n",
      "\tPrediction:  DavidC ((908, 321, 59, 59), 114.27868456791182)\n",
      "\tPrediction:  Aldrich ((326, 305, 114, 114), 80.78094748561016)\n",
      "\tPrediction:  Brian ((451, 373, 155, 155), 71.47001951281291)\n",
      "\tPrediction:  Nina ((683, 591, 202, 202), 93.2760645709635)\n",
      "\tPrediction:  Deanne ((382, 58, 94, 94), 98.435578794205)\n",
      "\tPrediction:  Kyle ((607, 222, 139, 139), 79.98998385442711)\n",
      "\tPrediction:  Rico ((592, 54, 106, 106), 87.21923680034772)\n",
      "\tPrediction:  Gabby ((1134, 529, 122, 122), 103.82314232058795)\n",
      "E.JPG\n",
      "\tPrediction:  DavidC ((1061, 335, 98, 98), 57.54354055519218)\n",
      "\tPrediction:  Luis ((710, 557, 108, 108), 54.810145559459585)\n",
      "\tPrediction:  Vernon ((1873, 448, 65, 65), 118.96500872838519)\n",
      "\tPrediction:  Brian ((1752, 290, 126, 126), 81.33992950194211)\n",
      "\tPrediction:  Jaren ((1344, 684, 71, 71), 99.74990714029722)\n",
      "\tPrediction:  Deanne ((1221, 367, 114, 114), 77.39346578976436)\n",
      "\tPrediction:  Ivan ((276, 361, 111, 111), 66.64021399295352)\n",
      "\tPrediction:  Jess ((874, 382, 92, 92), 70.40346721358493)\n",
      "\tPrediction:  Aemiel ((704, 343, 101, 101), 79.5532645400744)\n",
      "\tPrediction:  Gabby ((984, 582, 118, 118), 73.70851956758267)\n",
      "\tPrediction:  DavidD ((719, 627, 111, 111), 106.26348062281676)\n",
      "B.JPG\n",
      "\tPrediction:  DavidC ((1076, 220, 106, 106), 61.19982509085811)\n",
      "\tPrediction:  Luis ((434, 591, 109, 109), 65.43046008735784)\n",
      "\tPrediction:  Vernon ((704, 554, 108, 108), 64.99669823520382)\n",
      "\tPrediction:  Nina ((1112, 1200, 149, 149), 97.0197203131262)\n",
      "\tPrediction:  Deanne ((1475, 581, 101, 101), 80.11490395543012)\n",
      "\tPrediction:  Ivan ((257, 333, 108, 108), 77.48329673128084)\n",
      "\tPrediction:  Jess ((702, 632, 95, 95), 116.66837217144449)\n",
      "\tPrediction:  Rico ((1591, 302, 113, 113), 83.59735477898539)\n",
      "\tPrediction:  Gabby ((466, 329, 115, 115), 71.24300719646445)\n",
      "\tPrediction:  Aemiel ((1110, 332, 42, 42), 137.33059494960378)\n",
      "A.JPG\n",
      "\tPrediction:  DavidC ((1107, 228, 102, 102), 56.88508406263889)\n",
      "\tPrediction:  Luis ((696, 557, 109, 109), 54.01244750580927)\n",
      "\tPrediction:  Rico ((1588, 320, 114, 114), 76.66753642498202)\n",
      "\tPrediction:  Vernon ((1022, 320, 105, 105), 60.61449293460984)\n",
      "\tPrediction:  Nina ((1474, 136, 476, 476), 130.35578200561196)\n",
      "\tPrediction:  Deanne ((1491, 589, 107, 107), 74.67983272966451)\n",
      "\tPrediction:  Ivan ((1409, 308, 109, 109), 71.01346989531764)\n",
      "\tPrediction:  Jess ((813, 362, 97, 97), 67.65871849697844)\n",
      "\tPrediction:  Brian ((1732, 322, 122, 122), 73.71237335029423)\n",
      "\tPrediction:  Gabby ((437, 318, 117, 117), 64.10075057810373)\n",
      "\tPrediction:  DavidD ((666, 313, 109, 109), 72.76552852262306)\n",
      "N.JPG\n",
      "\tPrediction:  DavidC ((829, 260, 105, 105), 63.16406435382196)\n",
      "\tPrediction:  Aldrich ((1156, 1123, 56, 56), 112.87569446849909)\n",
      "\tPrediction:  Luis ((1390, 474, 114, 114), 66.49100435762165)\n",
      "\tPrediction:  Vernon ((361, 425, 107, 107), 60.93103359329136)\n",
      "\tPrediction:  Kyle ((304, 285, 367, 367), 127.26809750858217)\n",
      "\tPrediction:  Ivan ((1016, 314, 98, 98), 67.05647153196217)\n",
      "\tPrediction:  DavidD ((841, 343, 81, 81), 110.51475985409365)\n",
      "\tPrediction:  Jess ((1718, 432, 114, 114), 66.0003507191662)\n",
      "\tPrediction:  Rico ((1203, 368, 107, 107), 65.48998184074581)\n",
      "\tPrediction:  Gabby ((655, 241, 101, 101), 77.02615711878907)\n",
      "\tPrediction:  Aemiel ((744, 556, 99, 99), 80.47796240661849)\n",
      "L.JPG\n",
      "\tPrediction:  DavidC ((1115, 412, 81, 81), 91.36496263223827)\n",
      "\tPrediction:  Deanne ((1517, 372, 97, 97), 84.74433610019348)\n",
      "\tPrediction:  Jess ((284, 1004, 76, 76), 121.8025688230431)\n",
      "\tPrediction:  Aemiel ((1413, 193, 113, 113), 102.66194107863186)\n",
      "\tPrediction:  Vernon ((1590, 238, 89, 89), 114.27000581846602)\n",
      "D.JPG\n",
      "\tPrediction:  DavidC ((1050, 290, 84, 84), 76.89231571879195)\n",
      "\tPrediction:  Aldrich ((1278, 296, 103, 103), 75.18854460120588)\n",
      "\tPrediction:  Gabby ((501, 314, 98, 98), 93.3757142433212)\n",
      "\tPrediction:  Aemiel ((1451, 292, 106, 106), 81.4783702317181)\n",
      "\tPrediction:  Jaren ((1066, 506, 112, 112), 77.74315196005324)\n",
      "\tPrediction:  Deanne ((1578, 270, 100, 100), 80.24900751566912)\n",
      "\tPrediction:  Jess ((1653, 335, 91, 91), 84.69059435843793)\n",
      "\tPrediction:  Rico ((839, 368, 98, 98), 79.74790711260984)\n",
      "\tPrediction:  Andre ((907, 240, 100, 100), 81.4458669104178)\n",
      "\tPrediction:  DavidD ((646, 302, 99, 99), 79.83596467014839)\n",
      "C.JPG\n",
      "\tPrediction:  DavidC ((1082, 236, 112, 112), 63.503782193065284)\n",
      "\tPrediction:  Vernon ((1016, 370, 108, 108), 66.47737995866693)\n",
      "\tPrediction:  Kyle ((989, 630, 126, 126), 99.7255435463189)\n",
      "\tPrediction:  Deanne ((1213, 535, 121, 121), 67.75862792395596)\n",
      "\tPrediction:  Ivan ((473, 400, 115, 115), 69.33740658367913)\n",
      "\tPrediction:  Jess ((861, 418, 109, 109), 60.22105236520181)\n",
      "\tPrediction:  Rico ((758, 360, 111, 111), 63.16744222780566)\n",
      "\tPrediction:  Gabby ((597, 340, 113, 113), 67.51967971551258)\n",
      "M.JPG\n",
      "\tPrediction:  DavidC ((818, 216, 99, 99), 58.743014568358326)\n",
      "\tPrediction:  Luis ((709, 491, 90, 90), 69.56607443974029)\n",
      "\tPrediction:  Vernon ((1125, 445, 101, 101), 59.677377304076515)\n",
      "\tPrediction:  Brian ((1656, 294, 96, 96), 72.02811316176476)\n",
      "\tPrediction:  Kyle ((534, 582, 114, 114), 105.48145274159178)\n",
      "\tPrediction:  Jaren ((1808, 1118, 108, 108), 92.94021232700231)\n",
      "\tPrediction:  Deanne ((185, 411, 101, 101), 94.9010937762218)\n",
      "\tPrediction:  Ivan ((411, 427, 107, 107), 83.1308021004077)\n",
      "\tPrediction:  Jess ((932, 475, 97, 97), 67.10742114711307)\n",
      "\tPrediction:  Rico ((1006, 232, 94, 94), 70.5796399810373)\n",
      "\tPrediction:  Gabby ((644, 242, 103, 103), 78.17263423122743)\n",
      "G.JPG\n",
      "\tPrediction:  Deanne ((1427, 605, 91, 91), 98.64821266173344)\n",
      "\tPrediction:  Ivan ((460, 383, 87, 87), 103.85823777298984)\n",
      "\tPrediction:  Jess ((750, 567, 146, 146), 92.88087060005076)\n",
      "\tPrediction:  DavidD ((1412, 668, 100, 100), 105.25094587445055)\n"
     ]
    }
   ],
   "source": [
    "# predict all faces\n",
    "\n",
    "for img in os.listdir(img_folder):\n",
    "    \n",
    "    print(img)\n",
    "    \n",
    "    try:\n",
    "        img_path = os.path.join(img_folder, img)\n",
    "        predictions = predict_all_faces(img_path, model)\n",
    "        frame = cv2.imread(img_path)\n",
    "        s = 182\n",
    "        m = 44>>1\n",
    "\n",
    "        for label, rect in predictions.items():\n",
    "            print('\\tPrediction: ', label, rect)\n",
    "            x, y, w, h = rect[0]\n",
    "            mx = int(round(m*w/(s-2*m)))\n",
    "            my = int(round(m*h/(s-2*m)))\n",
    "            cv2.rectangle(frame, (x-mx, y-my), (x+w+mx, y+h+my), (0, 255, 0))\n",
    "            cv2.putText(frame, label, (x, y - 20), cv2.FONT_HERSHEY_PLAIN, 5, (0,0,255), 4)\n",
    "            cv2.putText(frame, '%.3f' % rect[1], (x, y - 100), cv2.FONT_HERSHEY_PLAIN, 3, (255,0,0), 4)\n",
    "\n",
    "        #cv2.imshow('Predictions', frame)\n",
    "        #cv2.waitKey(0)\n",
    "\n",
    "        out_path = os.path.join(out_folder, img)\n",
    "        cv2.imwrite(out_path, frame)\n",
    "    except Exception as e:\n",
    "        print(e)"
   ]
  },
  {
   "cell_type": "code",
   "execution_count": null,
   "metadata": {
    "collapsed": true
   },
   "outputs": [],
   "source": []
  },
  {
   "cell_type": "code",
   "execution_count": null,
   "metadata": {
    "collapsed": true
   },
   "outputs": [],
   "source": []
  }
 ],
 "metadata": {
  "kernelspec": {
   "display_name": "Tensorflow",
   "language": "python",
   "name": "tensorflow"
  },
  "language_info": {
   "codemirror_mode": {
    "name": "ipython",
    "version": 3
   },
   "file_extension": ".py",
   "mimetype": "text/x-python",
   "name": "python",
   "nbconvert_exporter": "python",
   "pygments_lexer": "ipython3",
   "version": "3.5.2"
  }
 },
 "nbformat": 4,
 "nbformat_minor": 2
}
