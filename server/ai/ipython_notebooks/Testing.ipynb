{
 "cells": [
  {
   "cell_type": "code",
   "execution_count": 1,
   "metadata": {
    "collapsed": false
   },
   "outputs": [
    {
     "name": "stdout",
     "output_type": "stream",
     "text": [
      "/home/rico/Git/AI-Fresent/server/ai\n"
     ]
    }
   ],
   "source": [
    "cd .."
   ]
  },
  {
   "cell_type": "code",
   "execution_count": 2,
   "metadata": {
    "collapsed": false
   },
   "outputs": [],
   "source": [
    "from fresent.util import *\n",
    "from fresent.predict import *\n",
    "import os, os.path, cv2"
   ]
  },
  {
   "cell_type": "code",
   "execution_count": null,
   "metadata": {
    "collapsed": false
   },
   "outputs": [],
   "source": [
    "model = 'model/model.xml'\n",
    "data = 'data/progvar_aligned/'\n",
    "img_folder = '/home/rico/Desktop/ADMU ProgVar/class/'\n",
    "out_folder = '/home/rico/Desktop/ADMU ProgVar/detect/'"
   ]
  },
  {
   "cell_type": "code",
   "execution_count": null,
   "metadata": {
    "collapsed": false,
    "scrolled": true
   },
   "outputs": [
    {
     "name": "stdout",
     "output_type": "stream",
     "text": [
      "O.JPG\n",
      "\tPrediction:  DavidC ((772, 317, 138, 138), 59.22107081669642)\n",
      "\tPrediction:  Aldrich ((1623, 674, 149, 149), 74.85309604397183)\n",
      "\tPrediction:  Luis ((195, 420, 144, 144), 66.79404068718944)\n",
      "\tPrediction:  Gabby ((577, 230, 139, 139), 88.7598480743547)\n",
      "\tPrediction:  Vernon ((977, 678, 133, 133), 71.2603419354067)\n",
      "\tPrediction:  Brian ((1391, 649, 151, 151), 71.62708420757218)\n",
      "\tPrediction:  Deanne ((597, 575, 119, 119), 68.20028469853617)\n",
      "\tPrediction:  Ivan ((404, 524, 154, 154), 65.7784169771537)\n",
      "\tPrediction:  Jess ((794, 543, 136, 136), 67.12318322397665)\n",
      "\tPrediction:  Rico ((1168, 362, 140, 140), 66.77218366754121)\n",
      "\tPrediction:  Andre ((976, 321, 128, 128), 67.9355518912814)\n",
      "F.JPG\n",
      "\tPrediction:  DavidC ((1876, 879, 36, 36), 118.39186674653044)\n",
      "\tPrediction:  Aldrich ((1191, 608, 120, 120), 80.09314679449018)\n",
      "\tPrediction:  Luis ((552, 616, 99, 99), 74.46235350572096)\n",
      "\tPrediction:  Vernon ((1095, 369, 94, 94), 61.724228103261645)\n",
      "\tPrediction:  Deanne ((1274, 381, 98, 98), 74.6301256044653)\n",
      "\tPrediction:  Jess ((1746, 380, 109, 109), 78.55914868109642)\n",
      "\tPrediction:  Rico ((1646, 368, 102, 102), 74.055615034898)\n",
      "\tPrediction:  Gabby ((673, 433, 107, 107), 65.15506411922553)\n",
      "\tPrediction:  Aemiel ((1477, 352, 100, 100), 81.93252484600173)\n",
      "I.JPG\n"
     ]
    }
   ],
   "source": [
    "# predict all faces\n",
    "\n",
    "for img in os.listdir(img_folder):\n",
    "    \n",
    "    print(img)\n",
    "    \n",
    "    try:\n",
    "        img_path = os.path.join(img_folder, img)\n",
    "        predictions = predict_all_faces(img_path, model)\n",
    "        frame = cv2.imread(img_path)\n",
    "        s = 182\n",
    "        m = 44>>1\n",
    "\n",
    "        for label, rect in predictions.items():\n",
    "            print('\\tPrediction: ', label, rect)\n",
    "            x, y, w, h = rect[0]\n",
    "            mx = int(round(m*w/(s-2*m)))\n",
    "            my = int(round(m*h/(s-2*m)))\n",
    "            cv2.rectangle(frame, (x-mx, y-my), (x+w+mx, y+h+my), (0, 255, 0))\n",
    "            cv2.putText(frame, label, (x, y - 20), cv2.FONT_HERSHEY_PLAIN, 5, (0,0,255), 4)\n",
    "            cv2.putText(frame, '%.3f' % rect[1], (x, y - 100), cv2.FONT_HERSHEY_PLAIN, 3, (255,0,0), 4)\n",
    "\n",
    "        #cv2.imshow('Predictions', frame)\n",
    "        #cv2.waitKey(0)\n",
    "\n",
    "        out_path = os.path.join(out_folder, img)\n",
    "        cv2.imwrite(out_path, frame)\n",
    "    except Exception as e:\n",
    "        print(e)"
   ]
  },
  {
   "cell_type": "code",
   "execution_count": null,
   "metadata": {
    "collapsed": true
   },
   "outputs": [],
   "source": []
  },
  {
   "cell_type": "code",
   "execution_count": null,
   "metadata": {
    "collapsed": true
   },
   "outputs": [],
   "source": []
  }
 ],
 "metadata": {
  "kernelspec": {
   "display_name": "Tensorflow",
   "language": "python",
   "name": "tensorflow"
  },
  "language_info": {
   "codemirror_mode": {
    "name": "ipython",
    "version": 3
   },
   "file_extension": ".py",
   "mimetype": "text/x-python",
   "name": "python",
   "nbconvert_exporter": "python",
   "pygments_lexer": "ipython3",
   "version": "3.5.2"
  }
 },
 "nbformat": 4,
 "nbformat_minor": 2
}
