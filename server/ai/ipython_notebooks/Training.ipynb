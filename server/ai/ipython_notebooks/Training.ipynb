{
 "cells": [
  {
   "cell_type": "code",
   "execution_count": 1,
   "metadata": {
    "collapsed": false
   },
   "outputs": [
    {
     "name": "stdout",
     "output_type": "stream",
     "text": [
      "/home/rico/Git/AI-Fresent/server/ai\n"
     ]
    }
   ],
   "source": [
    "cd .."
   ]
  },
  {
   "cell_type": "code",
   "execution_count": 2,
   "metadata": {
    "collapsed": false
   },
   "outputs": [],
   "source": [
    "from fresent.util import *\n",
    "from fresent.train import *\n",
    "from fresent.predict import *\n",
    "import os.path"
   ]
  },
  {
   "cell_type": "code",
   "execution_count": 3,
   "metadata": {
    "collapsed": true
   },
   "outputs": [],
   "source": [
    "classifier_path = 'model/model.xml'\n",
    "training_folder = 'data/progvar_aligned'"
   ]
  },
  {
   "cell_type": "code",
   "execution_count": 4,
   "metadata": {
    "collapsed": false
   },
   "outputs": [
    {
     "name": "stdout",
     "output_type": "stream",
     "text": [
      "Collected 92 images [16 labels]\n",
      "model/model.xml\n",
      "Saved main classifier /home/rico/Git/AI-Fresent/server/ai/model/model.xml\n"
     ]
    }
   ],
   "source": [
    "generate_classifiers(training_folder, classifier_path, one_big_classifier=True)"
   ]
  },
  {
   "cell_type": "code",
   "execution_count": 5,
   "metadata": {
    "collapsed": false
   },
   "outputs": [
    {
     "name": "stdout",
     "output_type": "stream",
     "text": [
      "{'Vernon': ((0, 12, 146, 146), 0.0)}\n",
      "{'Vernon': ((8, 9, 152, 152), 0.0)}\n",
      "{'Vernon': ((10, 14, 144, 144), 0.0)}\n",
      "{'Vernon': ((0, 9, 154, 154), 0.0)}\n",
      "{'Vernon': ((38, 30, 113, 113), 0.0)}\n",
      "{'Vernon': ((20, 13, 153, 153), 0.0)}\n",
      "{'Rico': ((31, 22, 139, 139), 0.0)}\n",
      "{'Rico': ((40, 26, 131, 131), 0.0)}\n",
      "{'Rico': ((19, 27, 130, 130), 0.0)}\n",
      "{'Rico': ((21, 18, 138, 138), 0.0)}\n",
      "{'Rico': ((4, 5, 168, 168), 0.0)}\n",
      "{'Rico': ((9, 8, 159, 159), 0.0)}\n",
      "{'Jaren': ((19, 18, 140, 140), 0.0)}\n",
      "{'Jaren': ((17, 16, 145, 145), 0.0)}\n",
      "{'Jaren': ((1, 3, 169, 169), 0.0)}\n",
      "{'Jaren': ((0, 9, 151, 151), 0.0)}\n",
      "{'Jaren': ((24, 16, 149, 149), 0.0)}\n",
      "{'Jaren': ((41, 22, 130, 130), 0.0)}\n",
      "{'Gabby': ((12, 15, 151, 151), 0.0)}\n",
      "{'Gabby': ((19, 18, 141, 141), 0.0)}\n",
      "{'Gabby': ((13, 16, 152, 152), 0.0)}\n",
      "{'Gabby': ((10, 18, 145, 145), 0.0)}\n",
      "{'Gabby': ((32, 23, 137, 137), 0.0)}\n",
      "{'Gabby': ((36, 36, 117, 117), 0.0)}\n",
      "{'Brian': ((15, 16, 144, 144), 0.0)}\n",
      "{'Brian': ((13, 5, 158, 158), 0.0)}\n",
      "{'Brian': ((17, 21, 136, 136), 0.0)}\n",
      "{'Brian': ((13, 12, 155, 155), 0.0)}\n",
      "{'Deanne': ((17, 20, 127, 127), 0.0)}\n",
      "{'Deanne': ((13, 20, 148, 148), 0.0)}\n",
      "{'Deanne': ((11, 24, 136, 136), 0.0)}\n",
      "{'Deanne': ((10, 7, 154, 154), 0.0)}\n",
      "{'Deanne': ((29, 19, 139, 139), 0.0)}\n",
      "{'Deanne': ((10, 19, 137, 137), 0.0)}\n",
      "{'Aldrich': ((14, 19, 139, 139), 0.0)}\n",
      "{'Aldrich': ((6, 10, 159, 159), 0.0)}\n",
      "{'Aldrich': ((9, 9, 143, 143), 0.0)}\n",
      "{'Aldrich': ((16, 18, 143, 143), 0.0)}\n",
      "{'Aldrich': ((29, 20, 129, 129), 0.0)}\n",
      "{'Aldrich': ((0, 3, 169, 169), 0.0)}\n",
      "{'DavidC': ((21, 25, 120, 120), 0.0)}\n",
      "{'DavidC': ((12, 9, 150, 150), 0.0)}\n",
      "{'DavidC': ((15, 18, 144, 144), 0.0)}\n",
      "{'DavidC': ((22, 21, 129, 129), 0.0)}\n",
      "{'DavidC': ((12, 7, 151, 151), 0.0)}\n",
      "{'DavidC': ((12, 15, 146, 146), 0.0)}\n",
      "{'Kyle': ((38, 32, 110, 110), 0.0)}\n",
      "{'Kyle': ((19, 24, 135, 135), 0.0)}\n",
      "{'Kyle': ((5, 5, 166, 166), 0.0)}\n",
      "{'Kyle': ((6, 19, 139, 139), 0.0)}\n",
      "{'Kyle': ((31, 24, 130, 130), 0.0)}\n",
      "{'Kyle': ((37, 32, 110, 110), 0.0)}\n",
      "{'Ivan': ((27, 25, 130, 130), 0.0)}\n",
      "{'Ivan': ((25, 10, 148, 148), 0.0)}\n",
      "{'Ivan': ((10, 4, 156, 156), 0.0)}\n",
      "{'Ivan': ((5, 5, 164, 164), 0.0)}\n",
      "{'Ivan': ((25, 21, 132, 132), 0.0)}\n",
      "{'Ivan': ((26, 21, 128, 128), 0.0)}\n",
      "{'Jess': ((11, 16, 155, 155), 0.0)}\n",
      "{'Jess': ((3, 13, 152, 152), 0.0)}\n",
      "{'Jess': ((18, 21, 139, 139), 0.0)}\n",
      "{'Jess': ((22, 17, 138, 138), 0.0)}\n",
      "{'Jess': ((3, 12, 156, 156), 0.0)}\n",
      "{'Jess': ((5, 12, 155, 155), 0.0)}\n",
      "{'Nina': ((9, 33, 122, 122), 0.0)}\n",
      "{'Nina': ((14, 9, 158, 158), 0.0)}\n",
      "{'Nina': ((14, 16, 147, 147), 0.0)}\n",
      "{'Nina': ((19, 21, 139, 139), 0.0)}\n",
      "{'Nina': ((10, 3, 163, 164), 0.0)}\n",
      "{'Nina': ((99, 70, 68, 68), 0.0), 'Kyle': ((3, 41, 108, 108), 99.38486257684646)}\n",
      "{}\n",
      "{'Luis': ((19, 19, 135, 135), 0.0)}\n",
      "{'Luis': ((21, 23, 128, 128), 0.0)}\n",
      "{'Luis': ((17, 13, 147, 147), 0.0)}\n",
      "{'Andre': ((6, 8, 163, 163), 0.0)}\n",
      "{'Andre': ((7, 6, 160, 160), 0.0)}\n",
      "{'Andre': ((6, 2, 167, 169), 0.0)}\n",
      "{'Andre': ((13, 10, 161, 161), 0.0)}\n",
      "{'Andre': ((15, 7, 158, 163), 0.0)}\n",
      "{'Andre': ((7, 7, 158, 158), 0.0)}\n",
      "{'DavidD': ((12, 11, 156, 156), 0.0)}\n",
      "{'DavidD': ((25, 13, 146, 146), 0.0)}\n",
      "{'DavidD': ((28, 32, 112, 112), 0.0)}\n",
      "{'DavidD': ((21, 20, 135, 135), 0.0)}\n",
      "{'DavidD': ((32, 27, 118, 118), 0.0)}\n",
      "{'DavidD': ((34, 23, 128, 128), 0.0)}\n",
      "{'Aemiel': ((0, 37, 127, 127), 0.0)}\n",
      "{'Aemiel': ((7, 8, 166, 165), 0.0)}\n",
      "{'Aemiel': ((14, 18, 150, 150), 0.0)}\n",
      "{'Aemiel': ((17, 18, 140, 140), 0.0)}\n",
      "{'Aemiel': ((21, 18, 137, 137), 0.0)}\n",
      "{'Aemiel': ((5, 13, 144, 144), 0.0)}\n",
      "CPU times: user 17.1 s, sys: 1.74 s, total: 18.9 s\n",
      "Wall time: 18.3 s\n"
     ]
    }
   ],
   "source": [
    "%%time\n",
    "\n",
    "for label in os.listdir(training_folder):\n",
    "    if os.path.isdir(os.path.join(training_folder, label)):\n",
    "        for image in os.listdir(os.path.join(training_folder, label)):\n",
    "            img_path = os.path.join(training_folder, label, image)\n",
    "            faces = predict_all_faces(img_path, classifier_path)\n",
    "            print(faces)"
   ]
  },
  {
   "cell_type": "code",
   "execution_count": null,
   "metadata": {
    "collapsed": true
   },
   "outputs": [],
   "source": []
  }
 ],
 "metadata": {
  "kernelspec": {
   "display_name": "Tensorflow",
   "language": "python",
   "name": "tensorflow"
  },
  "language_info": {
   "codemirror_mode": {
    "name": "ipython",
    "version": 3
   },
   "file_extension": ".py",
   "mimetype": "text/x-python",
   "name": "python",
   "nbconvert_exporter": "python",
   "pygments_lexer": "ipython3",
   "version": "3.5.2"
  }
 },
 "nbformat": 4,
 "nbformat_minor": 2
}
