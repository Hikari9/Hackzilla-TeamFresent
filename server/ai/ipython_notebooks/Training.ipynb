{
 "cells": [
  {
   "cell_type": "code",
   "execution_count": 1,
   "metadata": {
    "collapsed": false
   },
   "outputs": [
    {
     "name": "stdout",
     "output_type": "stream",
     "text": [
      "/home/rico/Git/AI-Fresent/server/ai\n"
     ]
    }
   ],
   "source": [
    "cd .."
   ]
  },
  {
   "cell_type": "code",
   "execution_count": 2,
   "metadata": {
    "collapsed": false
   },
   "outputs": [],
   "source": [
    "from fresent.util import *\n",
    "from fresent.train import *\n",
    "from fresent.predict import *\n",
    "import os.path"
   ]
  },
  {
   "cell_type": "code",
   "execution_count": 3,
   "metadata": {
    "collapsed": true
   },
   "outputs": [],
   "source": [
    "classifier_path = 'model/model.xml'\n",
    "training_folder = 'data/progvar_aligned'"
   ]
  },
  {
   "cell_type": "code",
   "execution_count": 4,
   "metadata": {
    "collapsed": false
   },
   "outputs": [
    {
     "name": "stdout",
     "output_type": "stream",
     "text": [
      "Collected 92 images [16 labels]\n",
      "model/model.xml\n",
      "Saved main classifier /home/rico/Git/AI-Fresent/server/ai/model/model.xml\n"
     ]
    }
   ],
   "source": [
    "generate_classifiers(training_folder, classifier_path, one_big_classifier=True)"
   ]
  },
  {
   "cell_type": "code",
   "execution_count": 5,
   "metadata": {
    "collapsed": false
   },
   "outputs": [
    {
     "name": "stdout",
     "output_type": "stream",
     "text": [
      "{'Vernon': ((0, 16, 142, 142), 0.0)}\n",
      "{'Vernon': ((12, 13, 148, 148), 0.0)}\n",
      "{'Vernon': ((14, 18, 140, 140), 0.0)}\n",
      "{'Vernon': ((0, 13, 150, 150), 0.0)}\n",
      "{'Vernon': ((41, 33, 110, 110), 0.0)}\n",
      "{'Vernon': ((24, 17, 149, 149), 0.0)}\n",
      "{'Rico': ((34, 25, 136, 136), 0.0)}\n",
      "{'Rico': ((44, 30, 127, 127), 0.0)}\n",
      "{'Rico': ((23, 31, 126, 126), 0.0)}\n",
      "{'Rico': ((24, 21, 135, 135), 0.0)}\n",
      "{'Rico': ((9, 10, 163, 163), 0.0)}\n",
      "{'Rico': ((13, 12, 155, 155), 0.0)}\n",
      "{'Jaren': ((22, 21, 137, 137), 0.0)}\n",
      "{'Jaren': ((21, 20, 141, 141), 0.0)}\n",
      "{'Jaren': ((5, 7, 165, 165), 0.0)}\n",
      "{'Jaren': ((0, 13, 147, 147), 0.0)}\n",
      "{'Jaren': ((28, 20, 145, 145), 0.0)}\n",
      "{'Jaren': ((45, 26, 126, 126), 0.0)}\n",
      "{'Gabby': ((16, 19, 147, 147), 0.0)}\n",
      "{'Gabby': ((22, 21, 138, 138), 0.0)}\n",
      "{'Gabby': ((17, 20, 148, 148), 0.0)}\n",
      "{'Gabby': ((14, 22, 141, 141), 0.0)}\n",
      "{'Gabby': ((35, 26, 134, 134), 0.0)}\n",
      "{'Gabby': ((39, 39, 114, 114), 0.0)}\n",
      "{'Brian': ((19, 20, 140, 140), 0.0)}\n",
      "{'Brian': ((17, 9, 154, 154), 0.0)}\n",
      "{'Brian': ((20, 24, 133, 133), 0.0)}\n",
      "{'Brian': ((17, 16, 151, 151), 0.0)}\n",
      "{'Deanne': ((21, 24, 123, 123), 0.0)}\n",
      "{'Deanne': ((17, 24, 144, 144), 0.0)}\n",
      "{'Deanne': ((14, 27, 133, 133), 0.0)}\n",
      "{'Deanne': ((14, 11, 150, 150), 0.0)}\n",
      "{'Deanne': ((32, 22, 136, 136), 0.0)}\n",
      "{'Deanne': ((13, 22, 134, 134), 0.0)}\n",
      "{'Aldrich': ((17, 22, 136, 136), 0.0)}\n",
      "{'Aldrich': ((10, 14, 155, 155), 0.0)}\n",
      "{'Aldrich': ((13, 13, 139, 139), 0.0)}\n",
      "{'Aldrich': ((20, 22, 139, 139), 0.0)}\n",
      "{'Aldrich': ((33, 24, 125, 125), 0.0)}\n",
      "{'Aldrich': ((1, 7, 165, 165), 0.0)}\n",
      "{'DavidC': ((24, 28, 117, 117), 0.0)}\n",
      "{'DavidC': ((16, 13, 146, 146), 0.0)}\n",
      "{'DavidC': ((19, 22, 140, 140), 0.0)}\n",
      "{'DavidC': ((26, 25, 125, 125), 0.0)}\n",
      "{'DavidC': ((16, 11, 147, 147), 0.0)}\n",
      "{'DavidC': ((16, 19, 142, 142), 0.0)}\n",
      "{'Kyle': ((41, 35, 107, 107), 0.0)}\n",
      "{'Kyle': ((22, 27, 132, 132), 0.0)}\n",
      "{'Kyle': ((10, 10, 161, 161), 0.0)}\n",
      "{'Kyle': ((9, 22, 136, 136), 0.0)}\n",
      "{'Kyle': ((35, 28, 126, 126), 0.0)}\n",
      "{'Kyle': ((40, 35, 107, 107), 0.0)}\n",
      "{'Ivan': ((31, 29, 126, 126), 0.0)}\n",
      "{'Ivan': ((29, 14, 144, 144), 0.0)}\n",
      "{'Ivan': ((14, 8, 152, 152), 0.0)}\n",
      "{'Ivan': ((10, 10, 159, 159), 0.0)}\n",
      "{'Ivan': ((28, 24, 129, 129), 0.0)}\n",
      "{'Ivan': ((30, 25, 124, 124), 0.0)}\n",
      "{'Jess': ((15, 20, 151, 151), 0.0)}\n",
      "{'Jess': ((7, 17, 148, 148), 0.0)}\n",
      "{'Jess': ((21, 24, 136, 136), 0.0)}\n",
      "{'Jess': ((25, 20, 135, 135), 0.0)}\n",
      "{'Jess': ((7, 16, 152, 152), 0.0)}\n",
      "{'Jess': ((9, 16, 151, 151), 0.0)}\n",
      "{'Nina': ((12, 36, 119, 119), 0.0)}\n",
      "{'Nina': ((18, 13, 154, 154), 0.0)}\n",
      "{'Nina': ((18, 20, 143, 143), 0.0)}\n",
      "{'Nina': ((22, 24, 136, 136), 0.0)}\n",
      "{'Nina': ((15, 8, 159, 159), 0.0)}\n",
      "{'Nina': ((101, 72, 66, 66), 0.0), 'Jess': ((6, 44, 105, 105), 88.42002169590623)}\n",
      "{}\n",
      "{'Luis': ((22, 22, 132, 132), 0.0)}\n",
      "{'Luis': ((25, 27, 124, 124), 0.0)}\n",
      "{'Luis': ((21, 17, 143, 143), 0.0)}\n",
      "{'Andre': ((11, 13, 158, 158), 0.0)}\n",
      "{'Andre': ((11, 10, 156, 156), 0.0)}\n",
      "{'Andre': ((10, 6, 165, 165), 0.0)}\n",
      "{'Andre': ((17, 14, 157, 157), 0.0)}\n",
      "{'Andre': ((20, 12, 158, 158), 0.0)}\n",
      "{'Andre': ((11, 11, 154, 154), 0.0)}\n",
      "{'DavidD': ((16, 15, 152, 152), 0.0)}\n",
      "{'DavidD': ((29, 17, 142, 142), 0.0)}\n",
      "{'DavidD': ((31, 35, 109, 109), 0.0)}\n",
      "{'DavidD': ((24, 23, 132, 132), 0.0)}\n",
      "{'DavidD': ((35, 30, 115, 115), 0.0)}\n",
      "{'DavidD': ((38, 27, 124, 124), 0.0)}\n",
      "{'Aemiel': ((4, 41, 123, 123), 0.0)}\n",
      "{'Aemiel': ((12, 13, 161, 161), 0.0)}\n",
      "{'Aemiel': ((18, 22, 146, 146), 0.0)}\n",
      "{'Aemiel': ((20, 21, 137, 137), 0.0)}\n",
      "{'Aemiel': ((24, 21, 134, 134), 0.0)}\n",
      "{'Aemiel': ((9, 17, 140, 140), 0.0)}\n",
      "CPU times: user 17.8 s, sys: 1.29 s, total: 19.1 s\n",
      "Wall time: 18.4 s\n"
     ]
    }
   ],
   "source": [
    "%%time\n",
    "\n",
    "for label in os.listdir(training_folder):\n",
    "    if os.path.isdir(os.path.join(training_folder, label)):\n",
    "        for image in os.listdir(os.path.join(training_folder, label)):\n",
    "            img_path = os.path.join(training_folder, label, image)\n",
    "            faces = predict_all_faces(img_path, classifier_path)\n",
    "            print(faces)"
   ]
  },
  {
   "cell_type": "code",
   "execution_count": null,
   "metadata": {
    "collapsed": true
   },
   "outputs": [],
   "source": []
  }
 ],
 "metadata": {
  "kernelspec": {
   "display_name": "Tensorflow",
   "language": "python",
   "name": "tensorflow"
  },
  "language_info": {
   "codemirror_mode": {
    "name": "ipython",
    "version": 3
   },
   "file_extension": ".py",
   "mimetype": "text/x-python",
   "name": "python",
   "nbconvert_exporter": "python",
   "pygments_lexer": "ipython3",
   "version": "3.5.2"
  }
 },
 "nbformat": 4,
 "nbformat_minor": 2
}
