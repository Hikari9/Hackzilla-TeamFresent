{
 "cells": [
  {
   "cell_type": "markdown",
   "metadata": {},
   "source": [
    "# Face Recognition - Generate Eigenface Classifiers\n",
    "\n",
    "This notebook tests face detection and recognition from sample images"
   ]
  },
  {
   "cell_type": "code",
   "execution_count": 1,
   "metadata": {
    "collapsed": true
   },
   "outputs": [],
   "source": [
    "import cv2, cv2.face\n",
    "import os, os.path\n",
    "import numpy as np\n",
    "from PIL import Image"
   ]
  },
  {
   "cell_type": "code",
   "execution_count": 2,
   "metadata": {
    "collapsed": true
   },
   "outputs": [],
   "source": [
    "# constants\n",
    "CASCADE_PATH = './data/'\n",
    "CASCADE_NAME = 'haarcascade_frontalface_default.xml'\n",
    "SAMPLE_TRAINING = './data/sample_training/'\n",
    "SAMPLE_TESTING = './data/sample_testing/'"
   ]
  },
  {
   "cell_type": "code",
   "execution_count": 3,
   "metadata": {
    "collapsed": true
   },
   "outputs": [],
   "source": [
    "#vSAMPLE_TRAINING = '/home/rico/datasets/lfw/raw/'"
   ]
  },
  {
   "cell_type": "code",
   "execution_count": 4,
   "metadata": {
    "collapsed": false
   },
   "outputs": [],
   "source": [
    "# Viola-Jones classifier for Haar feature extraction\n",
    "cascader_file = os.path.join(CASCADE_PATH, CASCADE_NAME)\n",
    "cascader = cv2.CascadeClassifier(cascader_file)\n",
    "assert(not cascader.empty())\n",
    "\n",
    "cascader_kwargs = { # setup detection args here\n",
    "    'scaleFactor': 1.1,\n",
    "    'minNeighbors': 2,\n",
    "    'flags': 2\n",
    "}"
   ]
  },
  {
   "cell_type": "code",
   "execution_count": 5,
   "metadata": {
    "collapsed": true
   },
   "outputs": [],
   "source": [
    "from util import get_images_and_labels"
   ]
  },
  {
   "cell_type": "code",
   "execution_count": 6,
   "metadata": {
    "collapsed": false
   },
   "outputs": [
    {
     "name": "stdout",
     "output_type": "stream",
     "text": [
      "Hosni_Mubarak\n",
      "\tHosni_Mubarak_0007.png [1 face]\n",
      "\tHosni_Mubarak_0003.png [1 face]\n",
      "\tHosni_Mubarak_0004.png [1 face]\n",
      "\tHosni_Mubarak_0008.png [1 face]\n",
      "\tHosni_Mubarak_0005.png [1 face]\n",
      "\tHosni_Mubarak_0001.png [1 face]\n",
      "\tHosni_Mubarak_0006.png [1 face]\n",
      "\tHosni_Mubarak_0002.png [1 face]\n",
      "[Added 8 images]\n",
      "Jeong_Se-hyun\n",
      "\tJeong_Se-hyun_0007.png [1 face]\n",
      "\tJeong_Se-hyun_0001.png [1 face]\n",
      "\tJeong_Se-hyun_0008.png [1 face]\n",
      "\tJeong_Se-hyun_0003.png [1 face]\n",
      "\tJeong_Se-hyun_0004.png [1 face]\n",
      "\tJeong_Se-hyun_0002.png [1 face]\n",
      "\tJeong_Se-hyun_0005.png [1 face]\n",
      "\tJeong_Se-hyun_0006.png [1 face]\n",
      "[Added 16 images]\n",
      "Aaron_Peirsol\n",
      "\tAaron_Peirsol_0003.png [1 face]\n",
      "\tAaron_Peirsol_0001.png [1 face]\n",
      "\tAaron_Peirsol_0002.png [1 face]\n",
      "[Added 19 images]\n",
      "Heizo_Takenaka\n",
      "\tHeizo_Takenaka_0002.png [1 face]\n",
      "\tHeizo_Takenaka_0007.png [1 face]\n",
      "\tHeizo_Takenaka_0001.png [1 face]\n",
      "\tHeizo_Takenaka_0006.png [1 face]\n",
      "\tHeizo_Takenaka_0004.png [1 face]\n",
      "\tHeizo_Takenaka_0008.png [1 face]\n",
      "\tHeizo_Takenaka_0003.png [1 face]\n",
      "\tHeizo_Takenaka_0005.png [1 face]\n",
      "[Added 27 images]\n",
      "Jesse_Jackson\n",
      "\tJesse_Jackson_0001.png [1 face]\n",
      "\tJesse_Jackson_0007.png [1 face]\n",
      "\tJesse_Jackson_0004.png [1 face]\n",
      "\tJesse_Jackson_0002.png [1 face]\n",
      "\tJesse_Jackson_0003.png [1 face]\n",
      "\tJesse_Jackson_0008.png [1 face]\n",
      "\tJesse_Jackson_0006.png [1 face]\n",
      "\tJesse_Jackson_0005.png [1 face]\n",
      "[Added 35 images]\n",
      "Hugh_Grant\n",
      "\tHugh_Grant_0002.png [1 face]\n",
      "\tHugh_Grant_0006.png [1 face]\n",
      "\tHugh_Grant_0004.png [1 face]\n",
      "\tHugh_Grant_0008.png [1 face]\n",
      "\tHugh_Grant_0001.png [1 face]\n",
      "\tHugh_Grant_0007.png [1 face]\n",
      "\tHugh_Grant_0003.png [1 face]\n",
      "\tHugh_Grant_0005.png [1 face]\n",
      "[Added 43 images]\n",
      "Fernando_Gonzalez\n",
      "\tFernando_Gonzalez_0006.png [1 face]\n",
      "\tFernando_Gonzalez_0007.png [1 face]\n",
      "\tFernando_Gonzalez_0004.png [1 face]\n",
      "\tFernando_Gonzalez_0002.png [1 face]\n",
      "\tFernando_Gonzalez_0003.png [1 face]\n",
      "\tFernando_Gonzalez_0001.png [1 face]\n",
      "\tFernando_Gonzalez_0005.png [1 face]\n",
      "\tFernando_Gonzalez_0008.png [1 face]\n",
      "[Added 51 images]\n",
      "George_Clooney\n",
      "\tGeorge_Clooney_0007.png [1 face]\n",
      "\tGeorge_Clooney_0001.png [1 face]\n",
      "\tGeorge_Clooney_0003.png [1 face]\n",
      "\tGeorge_Clooney_0006.png [1 face]\n",
      "\tGeorge_Clooney_0005.png [1 face]\n",
      "\tGeorge_Clooney_0008.png [1 face]\n",
      "\tGeorge_Clooney_0004.png [1 face]\n",
      "\tGeorge_Clooney_0002.png [1 face]\n",
      "[Added 59 images]\n",
      "Colin_Farrell\n",
      "\tColin_Farrell_0007.png [1 face]\n",
      "\tColin_Farrell_0002.png [1 face]\n",
      "\tColin_Farrell_0006.png [1 face]\n",
      "\tColin_Farrell_0003.png [1 face]\n",
      "\tColin_Farrell_0004.png [1 face]\n",
      "\tColin_Farrell_0008.png [1 face]\n",
      "\tColin_Farrell_0005.png [1 face]\n",
      "\tColin_Farrell_0001.png [1 face]\n",
      "[Added 67 images]\n",
      "Charles_Taylor\n",
      "\tCharles_Taylor_0002.png [1 face]\n",
      "\tCharles_Taylor_0005.png [1 face]\n",
      "\tCharles_Taylor_0004.png [1 face]\n",
      "\tCharles_Taylor_0001.png [1 face]\n",
      "\tCharles_Taylor_0007.png [1 face]\n",
      "\tCharles_Taylor_0003.png [1 face]\n",
      "\tCharles_Taylor_0006.png [1 face]\n",
      "\tCharles_Taylor_0008.png [1 face]\n",
      "[Added 75 images]\n"
     ]
    }
   ],
   "source": [
    "# setup training set\n",
    "training_set = get_images_and_labels(SAMPLE_TRAINING,\n",
    "                                    cascader=None,\n",
    "                                    debug=True,\n",
    "                                    debug_accuracy=False)"
   ]
  },
  {
   "cell_type": "code",
   "execution_count": 7,
   "metadata": {
    "collapsed": false
   },
   "outputs": [
    {
     "name": "stdout",
     "output_type": "stream",
     "text": [
      "Accuracy: 100.00000%\n",
      "Accuracy: 100.00000%\n"
     ]
    }
   ],
   "source": [
    "# setup testing set\n",
    "testing_set_cascade = get_images_and_labels(SAMPLE_TESTING,\n",
    "                                    cascader=cascader,\n",
    "                                    debug=False,\n",
    "                                    debug_faces=True,\n",
    "                                    debug_accuracy=True)\n",
    "\n",
    "testing_set= get_images_and_labels(SAMPLE_TESTING,\n",
    "                                    cascader=None,\n",
    "                                    debug=False,\n",
    "                                    debug_faces=True,\n",
    "                                    debug_accuracy=True)\n"
   ]
  },
  {
   "cell_type": "code",
   "execution_count": 8,
   "metadata": {
    "collapsed": false
   },
   "outputs": [],
   "source": [
    "# setup labels\n",
    "label_dict = {}\n",
    "label_dict_inv = {}\n",
    "\n",
    "for label in training_set[1]:\n",
    "    if label not in label_dict:\n",
    "        label_dict_inv[len(label_dict)] = label\n",
    "        label_dict[label] = len(label_dict)\n",
    "        "
   ]
  },
  {
   "cell_type": "code",
   "execution_count": 9,
   "metadata": {
    "collapsed": false
   },
   "outputs": [],
   "source": [
    "def perform_training(recognizer):\n",
    "    images, raw_labels = training_set\n",
    "    labels = [label_dict[label] for label in raw_labels]\n",
    "    print(labels)\n",
    "    recognizer.train(images, np.array(labels))\n",
    "    print('Trained %d images\\n' % len(images))"
   ]
  },
  {
   "cell_type": "code",
   "execution_count": 10,
   "metadata": {
    "collapsed": false
   },
   "outputs": [],
   "source": [
    "def perform_testing(recognizer, testing_set=testing_set):\n",
    "    \n",
    "    images, labels = testing_set\n",
    "    \n",
    "    print('Performing %d tests\\n' % len(images))\n",
    "\n",
    "    correct = 0\n",
    "    total = 0\n",
    "\n",
    "    for image, expected in zip(images, labels):\n",
    "        \n",
    "        if expected not in label_dict:\n",
    "            print('No face found for %s' % expected)\n",
    "            \n",
    "        else:\n",
    "            eid = label_dict[expected]\n",
    "            lid, confidence = recognizer.predict(image)\n",
    "            \n",
    "            if lid in label_dict_inv:\n",
    "                \n",
    "                actual = label_dict_inv[lid]\n",
    "                                        \n",
    "                if eid == lid:\n",
    "                    print('%s is correctly recognized with confidence %.10f' % (expected, confidence))\n",
    "                    correct += 1\n",
    "                                        \n",
    "                else:\n",
    "                    print('%s incorrect (recognized as %s with confidence %.10f)' % (expected, actual, confidence))\n",
    "                    \n",
    "            else:\n",
    "                print('No face found for %s' % expected)\n",
    "                \n",
    "        total += 1\n",
    "\n",
    "    print()\n",
    "    print('Accuracy: %.2f%%' % (100 * (correct / max(1, total))))\n",
    "    print('Correct:  %d' % correct)\n",
    "    print('Wrong:    %d' % (total - correct))"
   ]
  },
  {
   "cell_type": "code",
   "execution_count": 11,
   "metadata": {
    "collapsed": false
   },
   "outputs": [
    {
     "name": "stdout",
     "output_type": "stream",
     "text": [
      "[0, 0, 0, 0, 0, 0, 0, 0, 1, 1, 1, 1, 1, 1, 1, 1, 2, 2, 2, 3, 3, 3, 3, 3, 3, 3, 3, 4, 4, 4, 4, 4, 4, 4, 4, 5, 5, 5, 5, 5, 5, 5, 5, 6, 6, 6, 6, 6, 6, 6, 6, 7, 7, 7, 7, 7, 7, 7, 7, 8, 8, 8, 8, 8, 8, 8, 8, 9, 9, 9, 9, 9, 9, 9, 9]\n",
      "Trained 75 images\n",
      "\n",
      "0 0 70.33203017168863\n",
      "1 4 66.9695790300998\n",
      "2 8 64.02631180994958\n",
      "3 3 62.252336352937334\n",
      "4 5 55.98307131663556\n",
      "5 5 58.443145513715066\n",
      "6 6 58.194282662587064\n",
      "7 1 61.83141922223049\n",
      "8 8 60.659852760896726\n",
      "9 9 69.14819846258747\n",
      "60.0 % Accuracy\n"
     ]
    }
   ],
   "source": [
    "reco = cv2.face.createLBPHFaceRecognizer()\n",
    "perform_training(reco)\n",
    "ims, ls = testing_set\n",
    "cor = 0\n",
    "tot = 0\n",
    "for im, l in zip(ims,ls):\n",
    "    label = label_dict[l]\n",
    "    inf, conf = reco.predict(im)\n",
    "    print(label, inf, conf)\n",
    "    if (label == inf):\n",
    "        cor += 1\n",
    "    tot += 1\n",
    "print(100*cor/tot,'% Accuracy')"
   ]
  },
  {
   "cell_type": "markdown",
   "metadata": {},
   "source": [
    "# 1. EigenFaces"
   ]
  },
  {
   "cell_type": "code",
   "execution_count": 12,
   "metadata": {
    "collapsed": false
   },
   "outputs": [],
   "source": [
    "# face recognizer\n",
    "recognizer = cv2.face.createEigenFaceRecognizer()"
   ]
  },
  {
   "cell_type": "code",
   "execution_count": 13,
   "metadata": {
    "collapsed": false,
    "scrolled": true
   },
   "outputs": [
    {
     "name": "stdout",
     "output_type": "stream",
     "text": [
      "[0, 0, 0, 0, 0, 0, 0, 0, 1, 1, 1, 1, 1, 1, 1, 1, 2, 2, 2, 3, 3, 3, 3, 3, 3, 3, 3, 4, 4, 4, 4, 4, 4, 4, 4, 5, 5, 5, 5, 5, 5, 5, 5, 6, 6, 6, 6, 6, 6, 6, 6, 7, 7, 7, 7, 7, 7, 7, 7, 8, 8, 8, 8, 8, 8, 8, 8, 9, 9, 9, 9, 9, 9, 9, 9]\n",
      "Trained 75 images\n",
      "\n",
      "CPU times: user 532 ms, sys: 48 ms, total: 580 ms\n",
      "Wall time: 579 ms\n"
     ]
    }
   ],
   "source": [
    "%%time\n",
    "# Perform the training\n",
    "perform_training(recognizer)"
   ]
  },
  {
   "cell_type": "code",
   "execution_count": 14,
   "metadata": {
    "collapsed": false
   },
   "outputs": [
    {
     "name": "stdout",
     "output_type": "stream",
     "text": [
      "Performing 10 tests\n",
      "\n",
      "Hosni_Mubarak incorrect (recognized as Jeong_Se-hyun with confidence 7708.8797264715)\n",
      "Jeong_Se-hyun incorrect (recognized as Jesse_Jackson with confidence 9191.3998485021)\n",
      "Aaron_Peirsol incorrect (recognized as Jeong_Se-hyun with confidence 7686.4538475870)\n",
      "Heizo_Takenaka is correctly recognized with confidence 7592.1110518190\n",
      "Jesse_Jackson incorrect (recognized as George_Clooney with confidence 7535.3358054781)\n",
      "Hugh_Grant is correctly recognized with confidence 7144.1526959103\n",
      "Fernando_Gonzalez is correctly recognized with confidence 7184.3745207685\n",
      "George_Clooney is correctly recognized with confidence 8396.7570350231\n",
      "Colin_Farrell incorrect (recognized as Hugh_Grant with confidence 7856.0370864173)\n",
      "Charles_Taylor incorrect (recognized as Fernando_Gonzalez with confidence 9496.5626098884)\n",
      "\n",
      "Accuracy: 40.00%\n",
      "Correct:  4\n",
      "Wrong:    6\n"
     ]
    }
   ],
   "source": [
    "perform_testing(recognizer)"
   ]
  },
  {
   "cell_type": "markdown",
   "metadata": {},
   "source": [
    "# 2. FisherFaces"
   ]
  },
  {
   "cell_type": "code",
   "execution_count": 15,
   "metadata": {
    "collapsed": true
   },
   "outputs": [],
   "source": [
    "# face recognizer\n",
    "recognizer = cv2.face.createFisherFaceRecognizer()"
   ]
  },
  {
   "cell_type": "code",
   "execution_count": 16,
   "metadata": {
    "collapsed": false
   },
   "outputs": [
    {
     "name": "stdout",
     "output_type": "stream",
     "text": [
      "[0, 0, 0, 0, 0, 0, 0, 0, 1, 1, 1, 1, 1, 1, 1, 1, 2, 2, 2, 3, 3, 3, 3, 3, 3, 3, 3, 4, 4, 4, 4, 4, 4, 4, 4, 5, 5, 5, 5, 5, 5, 5, 5, 6, 6, 6, 6, 6, 6, 6, 6, 7, 7, 7, 7, 7, 7, 7, 7, 8, 8, 8, 8, 8, 8, 8, 8, 9, 9, 9, 9, 9, 9, 9, 9]\n",
      "Trained 75 images\n",
      "\n",
      "CPU times: user 492 ms, sys: 16 ms, total: 508 ms\n",
      "Wall time: 506 ms\n"
     ]
    }
   ],
   "source": [
    "%%time\n",
    "perform_training(recognizer)"
   ]
  },
  {
   "cell_type": "code",
   "execution_count": 17,
   "metadata": {
    "collapsed": false
   },
   "outputs": [
    {
     "name": "stdout",
     "output_type": "stream",
     "text": [
      "Performing 10 tests\n",
      "\n",
      "Hosni_Mubarak incorrect (recognized as George_Clooney with confidence 1415.5985222224)\n",
      "Jeong_Se-hyun incorrect (recognized as Colin_Farrell with confidence 1941.4372785408)\n",
      "Aaron_Peirsol incorrect (recognized as Hosni_Mubarak with confidence 1495.4150848578)\n",
      "Heizo_Takenaka incorrect (recognized as Colin_Farrell with confidence 2170.6659331031)\n",
      "Jesse_Jackson incorrect (recognized as Hugh_Grant with confidence 1476.5334439179)\n",
      "Hugh_Grant is correctly recognized with confidence 1683.8350626277\n",
      "Fernando_Gonzalez is correctly recognized with confidence 1736.9916732560\n",
      "George_Clooney is correctly recognized with confidence 1638.8801908796\n",
      "Colin_Farrell incorrect (recognized as Fernando_Gonzalez with confidence 1593.3159287082)\n",
      "Charles_Taylor incorrect (recognized as Hosni_Mubarak with confidence 1666.5036180065)\n",
      "\n",
      "Accuracy: 30.00%\n",
      "Correct:  3\n",
      "Wrong:    7\n",
      "CPU times: user 8 ms, sys: 0 ns, total: 8 ms\n",
      "Wall time: 5.25 ms\n"
     ]
    }
   ],
   "source": [
    "%%time\n",
    "perform_testing(recognizer)"
   ]
  },
  {
   "cell_type": "markdown",
   "metadata": {},
   "source": [
    "# 2. Local Binary Patterns"
   ]
  },
  {
   "cell_type": "code",
   "execution_count": 18,
   "metadata": {
    "collapsed": true
   },
   "outputs": [],
   "source": [
    "# face recognizer\n",
    "recognizer = cv2.face.createLBPHFaceRecognizer()"
   ]
  },
  {
   "cell_type": "code",
   "execution_count": 19,
   "metadata": {
    "collapsed": false
   },
   "outputs": [
    {
     "name": "stdout",
     "output_type": "stream",
     "text": [
      "[0, 0, 0, 0, 0, 0, 0, 0, 1, 1, 1, 1, 1, 1, 1, 1, 2, 2, 2, 3, 3, 3, 3, 3, 3, 3, 3, 4, 4, 4, 4, 4, 4, 4, 4, 5, 5, 5, 5, 5, 5, 5, 5, 6, 6, 6, 6, 6, 6, 6, 6, 7, 7, 7, 7, 7, 7, 7, 7, 8, 8, 8, 8, 8, 8, 8, 8, 9, 9, 9, 9, 9, 9, 9, 9]\n",
      "Trained 75 images\n",
      "\n",
      "CPU times: user 204 ms, sys: 0 ns, total: 204 ms\n",
      "Wall time: 198 ms\n"
     ]
    }
   ],
   "source": [
    "%%time\n",
    "perform_training(recognizer)"
   ]
  },
  {
   "cell_type": "code",
   "execution_count": 20,
   "metadata": {
    "collapsed": false
   },
   "outputs": [
    {
     "name": "stdout",
     "output_type": "stream",
     "text": [
      "Performing 10 tests\n",
      "\n",
      "Hosni_Mubarak is correctly recognized with confidence 70.3320301717\n",
      "Jeong_Se-hyun incorrect (recognized as Jesse_Jackson with confidence 66.9695790301)\n",
      "Aaron_Peirsol incorrect (recognized as Colin_Farrell with confidence 64.0263118099)\n",
      "Heizo_Takenaka is correctly recognized with confidence 62.2523363529\n",
      "Jesse_Jackson incorrect (recognized as Hugh_Grant with confidence 55.9830713166)\n",
      "Hugh_Grant is correctly recognized with confidence 58.4431455137\n",
      "Fernando_Gonzalez is correctly recognized with confidence 58.1942826626\n",
      "George_Clooney incorrect (recognized as Jeong_Se-hyun with confidence 61.8314192222)\n",
      "Colin_Farrell is correctly recognized with confidence 60.6598527609\n",
      "Charles_Taylor is correctly recognized with confidence 69.1481984626\n",
      "\n",
      "Accuracy: 60.00%\n",
      "Correct:  6\n",
      "Wrong:    4\n",
      "CPU times: user 88 ms, sys: 0 ns, total: 88 ms\n",
      "Wall time: 85.1 ms\n"
     ]
    }
   ],
   "source": [
    "%%time\n",
    "perform_testing(recognizer, testing_set)"
   ]
  }
 ],
 "metadata": {
  "kernelspec": {
   "display_name": "Tensorflow",
   "language": "python",
   "name": "tensorflow"
  },
  "language_info": {
   "codemirror_mode": {
    "name": "ipython",
    "version": 3
   },
   "file_extension": ".py",
   "mimetype": "text/x-python",
   "name": "python",
   "nbconvert_exporter": "python",
   "pygments_lexer": "ipython3",
   "version": "3.5.2"
  }
 },
 "nbformat": 4,
 "nbformat_minor": 2
}
